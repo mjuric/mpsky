{
 "cells": [
  {
   "cell_type": "code",
   "execution_count": 546,
   "id": "b1898cf4-196a-4d93-944b-625cd445c832",
   "metadata": {},
   "outputs": [],
   "source": [
    "import pandas as pd\n",
    "df = pd.read_json('mpcorb_extended.json.gz')"
   ]
  },
  {
   "cell_type": "code",
   "execution_count": 547,
   "id": "cbeff49b-19e9-440a-9350-db60e4c6055f",
   "metadata": {},
   "outputs": [
    {
     "data": {
      "text/plain": [
       "Index(['Critical_list_numbered_object_flag', 'H', 'G', 'Num_obs', 'rms', 'U',\n",
       "       'Arc_years', 'Perturbers', 'Perturbers_2', 'Number', 'Name',\n",
       "       'Principal_desig', 'Other_desigs', 'Epoch', 'M', 'Peri', 'Node', 'i',\n",
       "       'e', 'n', 'a', 'Ref', 'Num_opps', 'Computer', 'Hex_flags', 'Last_obs',\n",
       "       'Tp', 'Orbital_period', 'Perihelion_dist', 'Aphelion_dist',\n",
       "       'Semilatus_rectum', 'Synodic_period', 'Orbit_type', 'NEO_flag',\n",
       "       'One_km_NEO_flag', 'PHA_flag', 'One_opposition_object_flag',\n",
       "       'Arc_length'],\n",
       "      dtype='object')"
      ]
     },
     "execution_count": 547,
     "metadata": {},
     "output_type": "execute_result"
    }
   ],
   "source": [
    "df.columns"
   ]
  },
  {
   "cell_type": "code",
   "execution_count": 548,
   "id": "d147aefb-49d5-48bd-8a52-9ed52f8db43f",
   "metadata": {},
   "outputs": [
    {
     "data": {
      "text/html": [
       "<div>\n",
       "<style scoped>\n",
       "    .dataframe tbody tr th:only-of-type {\n",
       "        vertical-align: middle;\n",
       "    }\n",
       "\n",
       "    .dataframe tbody tr th {\n",
       "        vertical-align: top;\n",
       "    }\n",
       "\n",
       "    .dataframe thead th {\n",
       "        text-align: right;\n",
       "    }\n",
       "</style>\n",
       "<table border=\"1\" class=\"dataframe\">\n",
       "  <thead>\n",
       "    <tr style=\"text-align: right;\">\n",
       "      <th></th>\n",
       "      <th>ObjID</th>\n",
       "      <th>a</th>\n",
       "      <th>e</th>\n",
       "      <th>inc</th>\n",
       "      <th>node</th>\n",
       "      <th>argPeri</th>\n",
       "      <th>ma</th>\n",
       "      <th>epochMJD_TDB</th>\n",
       "      <th>FORMAT</th>\n",
       "    </tr>\n",
       "  </thead>\n",
       "  <tbody>\n",
       "    <tr>\n",
       "      <th>0</th>\n",
       "      <td>A801 AA</td>\n",
       "      <td>2.766620</td>\n",
       "      <td>0.079184</td>\n",
       "      <td>10.58790</td>\n",
       "      <td>80.25414</td>\n",
       "      <td>73.28578</td>\n",
       "      <td>145.84905</td>\n",
       "      <td>60600.0</td>\n",
       "      <td>KEP</td>\n",
       "    </tr>\n",
       "    <tr>\n",
       "      <th>1</th>\n",
       "      <td>A802 FA</td>\n",
       "      <td>2.770344</td>\n",
       "      <td>0.230438</td>\n",
       "      <td>34.92186</td>\n",
       "      <td>172.90614</td>\n",
       "      <td>310.89226</td>\n",
       "      <td>126.06756</td>\n",
       "      <td>60600.0</td>\n",
       "      <td>KEP</td>\n",
       "    </tr>\n",
       "    <tr>\n",
       "      <th>2</th>\n",
       "      <td>A804 RA</td>\n",
       "      <td>2.670187</td>\n",
       "      <td>0.256109</td>\n",
       "      <td>12.98815</td>\n",
       "      <td>169.83829</td>\n",
       "      <td>247.81974</td>\n",
       "      <td>127.32529</td>\n",
       "      <td>60600.0</td>\n",
       "      <td>KEP</td>\n",
       "    </tr>\n",
       "    <tr>\n",
       "      <th>3</th>\n",
       "      <td>A807 FA</td>\n",
       "      <td>2.360925</td>\n",
       "      <td>0.090001</td>\n",
       "      <td>7.14399</td>\n",
       "      <td>103.70471</td>\n",
       "      <td>151.67632</td>\n",
       "      <td>278.02316</td>\n",
       "      <td>60600.0</td>\n",
       "      <td>KEP</td>\n",
       "    </tr>\n",
       "    <tr>\n",
       "      <th>4</th>\n",
       "      <td>A845 XA</td>\n",
       "      <td>2.576221</td>\n",
       "      <td>0.187337</td>\n",
       "      <td>5.35896</td>\n",
       "      <td>141.45931</td>\n",
       "      <td>359.26459</td>\n",
       "      <td>38.63759</td>\n",
       "      <td>60600.0</td>\n",
       "      <td>KEP</td>\n",
       "    </tr>\n",
       "    <tr>\n",
       "      <th>...</th>\n",
       "      <td>...</td>\n",
       "      <td>...</td>\n",
       "      <td>...</td>\n",
       "      <td>...</td>\n",
       "      <td>...</td>\n",
       "      <td>...</td>\n",
       "      <td>...</td>\n",
       "      <td>...</td>\n",
       "      <td>...</td>\n",
       "    </tr>\n",
       "    <tr>\n",
       "      <th>1386200</th>\n",
       "      <td>2021 CS10</td>\n",
       "      <td>1.705880</td>\n",
       "      <td>0.052628</td>\n",
       "      <td>29.38693</td>\n",
       "      <td>119.89392</td>\n",
       "      <td>223.65372</td>\n",
       "      <td>164.66648</td>\n",
       "      <td>59260.0</td>\n",
       "      <td>KEP</td>\n",
       "    </tr>\n",
       "    <tr>\n",
       "      <th>1386201</th>\n",
       "      <td>2021 CA16</td>\n",
       "      <td>1.856075</td>\n",
       "      <td>0.047550</td>\n",
       "      <td>24.84879</td>\n",
       "      <td>95.72419</td>\n",
       "      <td>227.21125</td>\n",
       "      <td>177.55080</td>\n",
       "      <td>59260.0</td>\n",
       "      <td>KEP</td>\n",
       "    </tr>\n",
       "    <tr>\n",
       "      <th>1386202</th>\n",
       "      <td>2021 DB</td>\n",
       "      <td>2.393944</td>\n",
       "      <td>0.385839</td>\n",
       "      <td>23.84841</td>\n",
       "      <td>225.43635</td>\n",
       "      <td>250.60918</td>\n",
       "      <td>6.51092</td>\n",
       "      <td>59260.0</td>\n",
       "      <td>KEP</td>\n",
       "    </tr>\n",
       "    <tr>\n",
       "      <th>1386203</th>\n",
       "      <td>2021 FB3</td>\n",
       "      <td>2.185987</td>\n",
       "      <td>0.315277</td>\n",
       "      <td>52.54222</td>\n",
       "      <td>168.74816</td>\n",
       "      <td>347.30825</td>\n",
       "      <td>356.00787</td>\n",
       "      <td>59280.0</td>\n",
       "      <td>KEP</td>\n",
       "    </tr>\n",
       "    <tr>\n",
       "      <th>1386204</th>\n",
       "      <td>2021 HL3</td>\n",
       "      <td>2.161888</td>\n",
       "      <td>0.280549</td>\n",
       "      <td>27.28853</td>\n",
       "      <td>121.03255</td>\n",
       "      <td>97.84464</td>\n",
       "      <td>341.42182</td>\n",
       "      <td>59320.0</td>\n",
       "      <td>KEP</td>\n",
       "    </tr>\n",
       "  </tbody>\n",
       "</table>\n",
       "<p>1386204 rows × 9 columns</p>\n",
       "</div>"
      ],
      "text/plain": [
       "             ObjID         a         e       inc       node    argPeri  \\\n",
       "0          A801 AA  2.766620  0.079184  10.58790   80.25414   73.28578   \n",
       "1          A802 FA  2.770344  0.230438  34.92186  172.90614  310.89226   \n",
       "2          A804 RA  2.670187  0.256109  12.98815  169.83829  247.81974   \n",
       "3          A807 FA  2.360925  0.090001   7.14399  103.70471  151.67632   \n",
       "4          A845 XA  2.576221  0.187337   5.35896  141.45931  359.26459   \n",
       "...            ...       ...       ...       ...        ...        ...   \n",
       "1386200  2021 CS10  1.705880  0.052628  29.38693  119.89392  223.65372   \n",
       "1386201  2021 CA16  1.856075  0.047550  24.84879   95.72419  227.21125   \n",
       "1386202    2021 DB  2.393944  0.385839  23.84841  225.43635  250.60918   \n",
       "1386203   2021 FB3  2.185987  0.315277  52.54222  168.74816  347.30825   \n",
       "1386204   2021 HL3  2.161888  0.280549  27.28853  121.03255   97.84464   \n",
       "\n",
       "                ma  epochMJD_TDB FORMAT  \n",
       "0        145.84905       60600.0    KEP  \n",
       "1        126.06756       60600.0    KEP  \n",
       "2        127.32529       60600.0    KEP  \n",
       "3        278.02316       60600.0    KEP  \n",
       "4         38.63759       60600.0    KEP  \n",
       "...            ...           ...    ...  \n",
       "1386200  164.66648       59260.0    KEP  \n",
       "1386201  177.55080       59260.0    KEP  \n",
       "1386202    6.51092       59260.0    KEP  \n",
       "1386203  356.00787       59280.0    KEP  \n",
       "1386204  341.42182       59320.0    KEP  \n",
       "\n",
       "[1386204 rows x 9 columns]"
      ]
     },
     "execution_count": 548,
     "metadata": {},
     "output_type": "execute_result"
    }
   ],
   "source": [
    "desdf = df[[\"Principal_desig\", \"a\", \"e\", \"i\", \"Node\", \"Peri\", \"M\", \"Epoch\"]].rename(\n",
    "    columns=dict(Principal_desig=\"ObjID\", i=\"inc\", Node=\"node\", Peri=\"argPeri\", M=\"ma\", Epoch=\"epochMJD_TDB\"))\n",
    "desdf[\"epochMJD_TDB\"] -= 2400000.5\n",
    "desdf[\"FORMAT\"] = \"KEP\"\n",
    "desdf = desdf.loc[~(desdf[\"ObjID\"] == \"1930 BM\")] ## Remove Pluto\n",
    "desdf"
   ]
  },
  {
   "cell_type": "code",
   "execution_count": 549,
   "id": "c2fde463-ddf0-476c-9e46-fc145488ebbc",
   "metadata": {},
   "outputs": [],
   "source": [
    "desdf.iloc[1000:11000].to_csv(\"mpcorb.csv\", index=False)"
   ]
  },
  {
   "cell_type": "code",
   "execution_count": 163,
   "id": "a064bda4-d5ef-45c2-9843-2b1076e0cef9",
   "metadata": {},
   "outputs": [],
   "source": [
    "desdf.iloc[1000:1000+1_200_000].to_csv(\"mpcorb.csv\", index=False)"
   ]
  },
  {
   "cell_type": "code",
   "execution_count": 92,
   "id": "1911498b-3d1c-4494-b702-79b7c2dc1cce",
   "metadata": {},
   "outputs": [],
   "source": [
    "desdf.iloc[1000:-20000].to_csv(\"mpcorb.csv\", index=False)"
   ]
  },
  {
   "cell_type": "code",
   "execution_count": 78,
   "id": "784e9a70-381f-4af3-a1dc-213ccb81daa6",
   "metadata": {},
   "outputs": [
    {
     "data": {
      "text/plain": [
       "25067.0"
      ]
     },
     "execution_count": 78,
     "metadata": {},
     "output_type": "execute_result"
    }
   ],
   "source": [
    "desdf[\"epochMJD_TDB\"][-20_000:].min()"
   ]
  },
  {
   "cell_type": "markdown",
   "id": "d5b11edb-3657-43ba-8e5a-02767babf776",
   "metadata": {},
   "source": [
    "## Comparison with Sorcha"
   ]
  },
  {
   "cell_type": "code",
   "execution_count": 26,
   "id": "91b19a1d-5cb4-4f52-b95f-4be32e9786d8",
   "metadata": {},
   "outputs": [
    {
     "data": {
      "text/html": [
       "<div>\n",
       "<style scoped>\n",
       "    .dataframe tbody tr th:only-of-type {\n",
       "        vertical-align: middle;\n",
       "    }\n",
       "\n",
       "    .dataframe tbody tr th {\n",
       "        vertical-align: top;\n",
       "    }\n",
       "\n",
       "    .dataframe thead th {\n",
       "        text-align: right;\n",
       "    }\n",
       "</style>\n",
       "<table border=\"1\" class=\"dataframe\">\n",
       "  <thead>\n",
       "    <tr style=\"text-align: right;\">\n",
       "      <th></th>\n",
       "      <th>ObjID</th>\n",
       "      <th>FieldID</th>\n",
       "      <th>fieldMJD_TAI</th>\n",
       "      <th>fieldJD_TDB</th>\n",
       "      <th>Range_LTC_km</th>\n",
       "      <th>RangeRate_LTC_km_s</th>\n",
       "      <th>RATrue_deg</th>\n",
       "      <th>RARateCosDec_deg_day</th>\n",
       "      <th>DecTrue_deg</th>\n",
       "      <th>DecRate_deg_day</th>\n",
       "      <th>...</th>\n",
       "      <th>SNR</th>\n",
       "      <th>PSFMagSigma</th>\n",
       "      <th>trailedSourceMag</th>\n",
       "      <th>PSFMag</th>\n",
       "      <th>RA_deg</th>\n",
       "      <th>Dec_deg</th>\n",
       "      <th>detectorID</th>\n",
       "      <th>object_linked</th>\n",
       "      <th>date_linked_MJD</th>\n",
       "      <th>Obj_Sun_LTC_km</th>\n",
       "    </tr>\n",
       "  </thead>\n",
       "  <tbody>\n",
       "    <tr>\n",
       "      <th>0</th>\n",
       "      <td>2011_OB60</td>\n",
       "      <td>5736</td>\n",
       "      <td>60225.247168</td>\n",
       "      <td>2.460226e+06</td>\n",
       "      <td>5.381400e+09</td>\n",
       "      <td>8.911895</td>\n",
       "      <td>1.982561</td>\n",
       "      <td>-0.019103</td>\n",
       "      <td>-11.895495</td>\n",
       "      <td>-0.008133</td>\n",
       "      <td>...</td>\n",
       "      <td>16.585085</td>\n",
       "      <td>0.063567</td>\n",
       "      <td>22.457353</td>\n",
       "      <td>22.537312</td>\n",
       "      <td>1.982564</td>\n",
       "      <td>-11.895487</td>\n",
       "      <td>143.0</td>\n",
       "      <td>True</td>\n",
       "      <td>60228.0</td>\n",
       "      <td>5.521397e+09</td>\n",
       "    </tr>\n",
       "    <tr>\n",
       "      <th>1</th>\n",
       "      <td>2011_OB60</td>\n",
       "      <td>5786</td>\n",
       "      <td>60225.270947</td>\n",
       "      <td>2.460226e+06</td>\n",
       "      <td>5.381419e+09</td>\n",
       "      <td>8.970787</td>\n",
       "      <td>1.982098</td>\n",
       "      <td>-0.019067</td>\n",
       "      <td>-11.895689</td>\n",
       "      <td>-0.008121</td>\n",
       "      <td>...</td>\n",
       "      <td>7.285457</td>\n",
       "      <td>0.139649</td>\n",
       "      <td>22.605520</td>\n",
       "      <td>22.603568</td>\n",
       "      <td>1.982123</td>\n",
       "      <td>-11.895708</td>\n",
       "      <td>142.0</td>\n",
       "      <td>True</td>\n",
       "      <td>60228.0</td>\n",
       "      <td>5.521396e+09</td>\n",
       "    </tr>\n",
       "    <tr>\n",
       "      <th>2</th>\n",
       "      <td>2011_OB60</td>\n",
       "      <td>5812</td>\n",
       "      <td>60225.282702</td>\n",
       "      <td>2.460226e+06</td>\n",
       "      <td>5.381428e+09</td>\n",
       "      <td>8.997821</td>\n",
       "      <td>1.981869</td>\n",
       "      <td>-0.019047</td>\n",
       "      <td>-11.895784</td>\n",
       "      <td>-0.008115</td>\n",
       "      <td>...</td>\n",
       "      <td>8.712073</td>\n",
       "      <td>0.117976</td>\n",
       "      <td>22.260850</td>\n",
       "      <td>22.427162</td>\n",
       "      <td>1.981867</td>\n",
       "      <td>-11.895779</td>\n",
       "      <td>142.0</td>\n",
       "      <td>True</td>\n",
       "      <td>60228.0</td>\n",
       "      <td>5.521396e+09</td>\n",
       "    </tr>\n",
       "    <tr>\n",
       "      <th>3</th>\n",
       "      <td>2011_OB60</td>\n",
       "      <td>7438</td>\n",
       "      <td>60227.244719</td>\n",
       "      <td>2.460228e+06</td>\n",
       "      <td>5.382986e+09</td>\n",
       "      <td>9.890005</td>\n",
       "      <td>1.944405</td>\n",
       "      <td>-0.018894</td>\n",
       "      <td>-11.911533</td>\n",
       "      <td>-0.007840</td>\n",
       "      <td>...</td>\n",
       "      <td>14.361298</td>\n",
       "      <td>0.073086</td>\n",
       "      <td>22.592595</td>\n",
       "      <td>22.605653</td>\n",
       "      <td>1.944409</td>\n",
       "      <td>-11.911546</td>\n",
       "      <td>129.0</td>\n",
       "      <td>True</td>\n",
       "      <td>60228.0</td>\n",
       "      <td>5.521324e+09</td>\n",
       "    </tr>\n",
       "    <tr>\n",
       "      <th>4</th>\n",
       "      <td>2011_OB60</td>\n",
       "      <td>7488</td>\n",
       "      <td>60227.268431</td>\n",
       "      <td>2.460228e+06</td>\n",
       "      <td>5.383006e+09</td>\n",
       "      <td>9.947928</td>\n",
       "      <td>1.943947</td>\n",
       "      <td>-0.018857</td>\n",
       "      <td>-11.911719</td>\n",
       "      <td>-0.007827</td>\n",
       "      <td>...</td>\n",
       "      <td>13.159019</td>\n",
       "      <td>0.079524</td>\n",
       "      <td>22.538918</td>\n",
       "      <td>22.477342</td>\n",
       "      <td>1.943954</td>\n",
       "      <td>-11.911718</td>\n",
       "      <td>129.0</td>\n",
       "      <td>True</td>\n",
       "      <td>60228.0</td>\n",
       "      <td>5.521324e+09</td>\n",
       "    </tr>\n",
       "    <tr>\n",
       "      <th>...</th>\n",
       "      <td>...</td>\n",
       "      <td>...</td>\n",
       "      <td>...</td>\n",
       "      <td>...</td>\n",
       "      <td>...</td>\n",
       "      <td>...</td>\n",
       "      <td>...</td>\n",
       "      <td>...</td>\n",
       "      <td>...</td>\n",
       "      <td>...</td>\n",
       "      <td>...</td>\n",
       "      <td>...</td>\n",
       "      <td>...</td>\n",
       "      <td>...</td>\n",
       "      <td>...</td>\n",
       "      <td>...</td>\n",
       "      <td>...</td>\n",
       "      <td>...</td>\n",
       "      <td>...</td>\n",
       "      <td>...</td>\n",
       "      <td>...</td>\n",
       "    </tr>\n",
       "    <tr>\n",
       "      <th>637</th>\n",
       "      <td>2011_OB60</td>\n",
       "      <td>212510</td>\n",
       "      <td>60574.274358</td>\n",
       "      <td>2.460575e+06</td>\n",
       "      <td>5.363042e+09</td>\n",
       "      <td>-0.223989</td>\n",
       "      <td>4.436954</td>\n",
       "      <td>-0.019622</td>\n",
       "      <td>-11.442597</td>\n",
       "      <td>-0.010235</td>\n",
       "      <td>...</td>\n",
       "      <td>8.427248</td>\n",
       "      <td>0.121748</td>\n",
       "      <td>22.469139</td>\n",
       "      <td>22.407737</td>\n",
       "      <td>4.436967</td>\n",
       "      <td>-11.442574</td>\n",
       "      <td>125.0</td>\n",
       "      <td>True</td>\n",
       "      <td>60228.0</td>\n",
       "      <td>5.509883e+09</td>\n",
       "    </tr>\n",
       "    <tr>\n",
       "      <th>638</th>\n",
       "      <td>2011_OB60</td>\n",
       "      <td>212559</td>\n",
       "      <td>60574.298016</td>\n",
       "      <td>2.460575e+06</td>\n",
       "      <td>5.363042e+09</td>\n",
       "      <td>-0.160221</td>\n",
       "      <td>4.436480</td>\n",
       "      <td>-0.019597</td>\n",
       "      <td>-11.442839</td>\n",
       "      <td>-0.010224</td>\n",
       "      <td>...</td>\n",
       "      <td>5.932847</td>\n",
       "      <td>0.169121</td>\n",
       "      <td>22.500056</td>\n",
       "      <td>22.282398</td>\n",
       "      <td>4.436465</td>\n",
       "      <td>-11.442826</td>\n",
       "      <td>69.0</td>\n",
       "      <td>True</td>\n",
       "      <td>60228.0</td>\n",
       "      <td>5.509883e+09</td>\n",
       "    </tr>\n",
       "    <tr>\n",
       "      <th>639</th>\n",
       "      <td>2011_OB60</td>\n",
       "      <td>215598</td>\n",
       "      <td>60582.214616</td>\n",
       "      <td>2.460583e+06</td>\n",
       "      <td>5.364155e+09</td>\n",
       "      <td>3.702268</td>\n",
       "      <td>4.279759</td>\n",
       "      <td>-0.019806</td>\n",
       "      <td>-11.521049</td>\n",
       "      <td>-0.009445</td>\n",
       "      <td>...</td>\n",
       "      <td>15.126066</td>\n",
       "      <td>0.069506</td>\n",
       "      <td>23.055008</td>\n",
       "      <td>23.161147</td>\n",
       "      <td>4.279771</td>\n",
       "      <td>-11.521048</td>\n",
       "      <td>158.0</td>\n",
       "      <td>True</td>\n",
       "      <td>60228.0</td>\n",
       "      <td>5.509649e+09</td>\n",
       "    </tr>\n",
       "    <tr>\n",
       "      <th>640</th>\n",
       "      <td>2011_OB60</td>\n",
       "      <td>215599</td>\n",
       "      <td>60582.215067</td>\n",
       "      <td>2.460583e+06</td>\n",
       "      <td>5.364155e+09</td>\n",
       "      <td>3.703596</td>\n",
       "      <td>4.279750</td>\n",
       "      <td>-0.019806</td>\n",
       "      <td>-11.521053</td>\n",
       "      <td>-0.009444</td>\n",
       "      <td>...</td>\n",
       "      <td>16.046874</td>\n",
       "      <td>0.065636</td>\n",
       "      <td>22.927668</td>\n",
       "      <td>22.981540</td>\n",
       "      <td>4.279753</td>\n",
       "      <td>-11.521056</td>\n",
       "      <td>36.0</td>\n",
       "      <td>True</td>\n",
       "      <td>60228.0</td>\n",
       "      <td>5.509649e+09</td>\n",
       "    </tr>\n",
       "    <tr>\n",
       "      <th>641</th>\n",
       "      <td>2011_OB60</td>\n",
       "      <td>215649</td>\n",
       "      <td>60582.239996</td>\n",
       "      <td>2.460583e+06</td>\n",
       "      <td>5.364163e+09</td>\n",
       "      <td>3.776021</td>\n",
       "      <td>4.279247</td>\n",
       "      <td>-0.019790</td>\n",
       "      <td>-11.521289</td>\n",
       "      <td>-0.009430</td>\n",
       "      <td>...</td>\n",
       "      <td>13.985411</td>\n",
       "      <td>0.074984</td>\n",
       "      <td>22.596399</td>\n",
       "      <td>22.514755</td>\n",
       "      <td>4.279256</td>\n",
       "      <td>-11.521262</td>\n",
       "      <td>7.0</td>\n",
       "      <td>True</td>\n",
       "      <td>60228.0</td>\n",
       "      <td>5.509649e+09</td>\n",
       "    </tr>\n",
       "  </tbody>\n",
       "</table>\n",
       "<p>642 rows × 58 columns</p>\n",
       "</div>"
      ],
      "text/plain": [
       "         ObjID  FieldID  fieldMJD_TAI   fieldJD_TDB  Range_LTC_km  \\\n",
       "0    2011_OB60     5736  60225.247168  2.460226e+06  5.381400e+09   \n",
       "1    2011_OB60     5786  60225.270947  2.460226e+06  5.381419e+09   \n",
       "2    2011_OB60     5812  60225.282702  2.460226e+06  5.381428e+09   \n",
       "3    2011_OB60     7438  60227.244719  2.460228e+06  5.382986e+09   \n",
       "4    2011_OB60     7488  60227.268431  2.460228e+06  5.383006e+09   \n",
       "..         ...      ...           ...           ...           ...   \n",
       "637  2011_OB60   212510  60574.274358  2.460575e+06  5.363042e+09   \n",
       "638  2011_OB60   212559  60574.298016  2.460575e+06  5.363042e+09   \n",
       "639  2011_OB60   215598  60582.214616  2.460583e+06  5.364155e+09   \n",
       "640  2011_OB60   215599  60582.215067  2.460583e+06  5.364155e+09   \n",
       "641  2011_OB60   215649  60582.239996  2.460583e+06  5.364163e+09   \n",
       "\n",
       "     RangeRate_LTC_km_s  RATrue_deg  RARateCosDec_deg_day  DecTrue_deg  \\\n",
       "0              8.911895    1.982561             -0.019103   -11.895495   \n",
       "1              8.970787    1.982098             -0.019067   -11.895689   \n",
       "2              8.997821    1.981869             -0.019047   -11.895784   \n",
       "3              9.890005    1.944405             -0.018894   -11.911533   \n",
       "4              9.947928    1.943947             -0.018857   -11.911719   \n",
       "..                  ...         ...                   ...          ...   \n",
       "637           -0.223989    4.436954             -0.019622   -11.442597   \n",
       "638           -0.160221    4.436480             -0.019597   -11.442839   \n",
       "639            3.702268    4.279759             -0.019806   -11.521049   \n",
       "640            3.703596    4.279750             -0.019806   -11.521053   \n",
       "641            3.776021    4.279247             -0.019790   -11.521289   \n",
       "\n",
       "     DecRate_deg_day  ...        SNR  PSFMagSigma  trailedSourceMag  \\\n",
       "0          -0.008133  ...  16.585085     0.063567         22.457353   \n",
       "1          -0.008121  ...   7.285457     0.139649         22.605520   \n",
       "2          -0.008115  ...   8.712073     0.117976         22.260850   \n",
       "3          -0.007840  ...  14.361298     0.073086         22.592595   \n",
       "4          -0.007827  ...  13.159019     0.079524         22.538918   \n",
       "..               ...  ...        ...          ...               ...   \n",
       "637        -0.010235  ...   8.427248     0.121748         22.469139   \n",
       "638        -0.010224  ...   5.932847     0.169121         22.500056   \n",
       "639        -0.009445  ...  15.126066     0.069506         23.055008   \n",
       "640        -0.009444  ...  16.046874     0.065636         22.927668   \n",
       "641        -0.009430  ...  13.985411     0.074984         22.596399   \n",
       "\n",
       "        PSFMag    RA_deg    Dec_deg  detectorID  object_linked  \\\n",
       "0    22.537312  1.982564 -11.895487       143.0           True   \n",
       "1    22.603568  1.982123 -11.895708       142.0           True   \n",
       "2    22.427162  1.981867 -11.895779       142.0           True   \n",
       "3    22.605653  1.944409 -11.911546       129.0           True   \n",
       "4    22.477342  1.943954 -11.911718       129.0           True   \n",
       "..         ...       ...        ...         ...            ...   \n",
       "637  22.407737  4.436967 -11.442574       125.0           True   \n",
       "638  22.282398  4.436465 -11.442826        69.0           True   \n",
       "639  23.161147  4.279771 -11.521048       158.0           True   \n",
       "640  22.981540  4.279753 -11.521056        36.0           True   \n",
       "641  22.514755  4.279256 -11.521262         7.0           True   \n",
       "\n",
       "     date_linked_MJD  Obj_Sun_LTC_km  \n",
       "0            60228.0    5.521397e+09  \n",
       "1            60228.0    5.521396e+09  \n",
       "2            60228.0    5.521396e+09  \n",
       "3            60228.0    5.521324e+09  \n",
       "4            60228.0    5.521324e+09  \n",
       "..               ...             ...  \n",
       "637          60228.0    5.509883e+09  \n",
       "638          60228.0    5.509883e+09  \n",
       "639          60228.0    5.509649e+09  \n",
       "640          60228.0    5.509649e+09  \n",
       "641          60228.0    5.509649e+09  \n",
       "\n",
       "[642 rows x 58 columns]"
      ]
     },
     "execution_count": 26,
     "metadata": {},
     "output_type": "execute_result"
    }
   ],
   "source": [
    "df = pd.read_csv(\"testrun_e2e.csv\")\n",
    "df"
   ]
  },
  {
   "cell_type": "code",
   "execution_count": 31,
   "id": "23755705-f34f-485d-bdd7-8a806c9d1f0d",
   "metadata": {},
   "outputs": [
    {
     "data": {
      "text/plain": [
       "<Axes: >"
      ]
     },
     "execution_count": 31,
     "metadata": {},
     "output_type": "execute_result"
    },
    {
     "data": {
      "image/png": "[encoded data removed]",
      "text/plain": [
       "<Figure size 640x480 with 1 Axes>"
      ]
     },
     "metadata": {},
     "output_type": "display_data"
    }
   ],
   "source": [
    "import numpy as np\n",
    "tmin, tmax = df[\"fieldMJD_TAI\"].min(), df[\"fieldMJD_TAI\"].max()\n",
    "df[\"fieldMJD_TAI\"].hist(bins=np.arange(tmin, tmax, 10))"
   ]
  },
  {
   "cell_type": "markdown",
   "id": "db404e7c-7d69-48c3-b835-6217884b2e19",
   "metadata": {},
   "source": [
    "## Sizes"
   ]
  },
  {
   "cell_type": "code",
   "execution_count": 62,
   "id": "0e288a1d-16de-4718-89c0-5500d6d7064c",
   "metadata": {},
   "outputs": [
    {
     "name": "stdout",
     "output_type": "stream",
     "text": [
      "snap_gb=1.56\n",
      "1216\n",
      "cache_tb=1.86\n"
     ]
    }
   ],
   "source": [
    "cheby_order=6\n",
    "nobj = 10_000_000\n",
    "floatbytes = 8\n",
    "\n",
    "# size of each snapshot on disk\n",
    "snap_gb = (cheby_order+1) * nobj * 3 * floatbytes / 1024 / 1024 / 1024\n",
    "print(f\"{snap_gb=:.3}\")\n",
    "\n",
    "# number of snapshots for 100 years, assuming 10 days/snapshot\n",
    "nsnaps = 100*365//30\n",
    "print(f\"{nsnaps}\")\n",
    "\n",
    "# total size\n",
    "cache_tb = snap_gb * nsnaps / 1024\n",
    "print(f\"{cache_tb=:.3}\")"
   ]
  },
  {
   "cell_type": "code",
   "execution_count": null,
   "id": "d1276547-5d12-45f4-80f3-79e3ed749a59",
   "metadata": {},
   "outputs": [],
   "source": [
    "## data structure\n",
    "## np.zeros((tslices, cheby_order+1, 3, nobj))\n",
    "\n",
    "results[i0] = foo(p0)\n",
    "results[i1] = foo(p1)\n",
    "results[i2] = foo(p2)\n",
    "...\n",
    "\n",
    "for i, p in chebylist:\n",
    "    results[i] = foo(p)"
   ]
  },
  {
   "cell_type": "markdown",
   "id": "a9a45144-1987-4449-a134-ec8d072fdaf4",
   "metadata": {},
   "source": [
    "## Test"
   ]
  },
  {
   "cell_type": "code",
   "execution_count": 120,
   "id": "8938e2bb-8888-45a2-83ea-cd2dd95e42fa",
   "metadata": {},
   "outputs": [
    {
     "data": {
      "text/html": [
       "<div>\n",
       "<style scoped>\n",
       "    .dataframe tbody tr th:only-of-type {\n",
       "        vertical-align: middle;\n",
       "    }\n",
       "\n",
       "    .dataframe tbody tr th {\n",
       "        vertical-align: top;\n",
       "    }\n",
       "\n",
       "    .dataframe thead th {\n",
       "        text-align: right;\n",
       "    }\n",
       "</style>\n",
       "<table border=\"1\" class=\"dataframe\">\n",
       "  <thead>\n",
       "    <tr style=\"text-align: right;\">\n",
       "      <th></th>\n",
       "      <th>Unnamed: 0</th>\n",
       "      <th>0</th>\n",
       "      <th>1</th>\n",
       "      <th>2</th>\n",
       "    </tr>\n",
       "  </thead>\n",
       "  <tbody>\n",
       "    <tr>\n",
       "      <th>0</th>\n",
       "      <td>0</td>\n",
       "      <td>0.146636</td>\n",
       "      <td>0.207606</td>\n",
       "      <td>0.023006</td>\n",
       "    </tr>\n",
       "    <tr>\n",
       "      <th>1</th>\n",
       "      <td>1</td>\n",
       "      <td>0.145380</td>\n",
       "      <td>0.207581</td>\n",
       "      <td>0.023574</td>\n",
       "    </tr>\n",
       "    <tr>\n",
       "      <th>2</th>\n",
       "      <td>2</td>\n",
       "      <td>0.144121</td>\n",
       "      <td>0.207553</td>\n",
       "      <td>0.024142</td>\n",
       "    </tr>\n",
       "    <tr>\n",
       "      <th>3</th>\n",
       "      <td>3</td>\n",
       "      <td>0.142860</td>\n",
       "      <td>0.207521</td>\n",
       "      <td>0.024709</td>\n",
       "    </tr>\n",
       "    <tr>\n",
       "      <th>4</th>\n",
       "      <td>4</td>\n",
       "      <td>0.141597</td>\n",
       "      <td>0.207486</td>\n",
       "      <td>0.025275</td>\n",
       "    </tr>\n",
       "    <tr>\n",
       "      <th>...</th>\n",
       "      <td>...</td>\n",
       "      <td>...</td>\n",
       "      <td>...</td>\n",
       "      <td>...</td>\n",
       "    </tr>\n",
       "    <tr>\n",
       "      <th>965</th>\n",
       "      <td>965</td>\n",
       "      <td>-0.255903</td>\n",
       "      <td>-0.627244</td>\n",
       "      <td>-0.168320</td>\n",
       "    </tr>\n",
       "    <tr>\n",
       "      <th>966</th>\n",
       "      <td>966</td>\n",
       "      <td>-0.255735</td>\n",
       "      <td>-0.627875</td>\n",
       "      <td>-0.168682</td>\n",
       "    </tr>\n",
       "    <tr>\n",
       "      <th>967</th>\n",
       "      <td>967</td>\n",
       "      <td>-0.255567</td>\n",
       "      <td>-0.628505</td>\n",
       "      <td>-0.169043</td>\n",
       "    </tr>\n",
       "    <tr>\n",
       "      <th>968</th>\n",
       "      <td>968</td>\n",
       "      <td>-0.255399</td>\n",
       "      <td>-0.629134</td>\n",
       "      <td>-0.169405</td>\n",
       "    </tr>\n",
       "    <tr>\n",
       "      <th>969</th>\n",
       "      <td>969</td>\n",
       "      <td>-0.255231</td>\n",
       "      <td>-0.629763</td>\n",
       "      <td>-0.169767</td>\n",
       "    </tr>\n",
       "  </tbody>\n",
       "</table>\n",
       "<p>970 rows × 4 columns</p>\n",
       "</div>"
      ],
      "text/plain": [
       "     Unnamed: 0         0         1         2\n",
       "0             0  0.146636  0.207606  0.023006\n",
       "1             1  0.145380  0.207581  0.023574\n",
       "2             2  0.144121  0.207553  0.024142\n",
       "3             3  0.142860  0.207521  0.024709\n",
       "4             4  0.141597  0.207486  0.025275\n",
       "..          ...       ...       ...       ...\n",
       "965         965 -0.255903 -0.627244 -0.168320\n",
       "966         966 -0.255735 -0.627875 -0.168682\n",
       "967         967 -0.255567 -0.628505 -0.169043\n",
       "968         968 -0.255399 -0.629134 -0.169405\n",
       "969         969 -0.255231 -0.629763 -0.169767\n",
       "\n",
       "[970 rows x 4 columns]"
      ]
     },
     "execution_count": 120,
     "metadata": {},
     "output_type": "execute_result"
    }
   ],
   "source": [
    "df = pd.read_csv('1949 MA.csv')\n",
    "df"
   ]
  },
  {
   "cell_type": "code",
   "execution_count": 124,
   "id": "9ac3bf84-2da1-4de2-8378-8b831fecf8ec",
   "metadata": {},
   "outputs": [
    {
     "data": {
      "text/plain": [
       "<Axes: >"
      ]
     },
     "execution_count": 124,
     "metadata": {},
     "output_type": "execute_result"
    },
    {
     "data": {
      "image/png": "[encoded data removed]",
      "text/plain": [
       "<Figure size 640x480 with 1 Axes>"
      ]
     },
     "metadata": {},
     "output_type": "display_data"
    }
   ],
   "source": [
    "df.plot()"
   ]
  },
  {
   "cell_type": "code",
   "execution_count": 125,
   "id": "64e2cdeb-6765-4912-b8e2-c4b0fd01cccd",
   "metadata": {},
   "outputs": [
    {
     "data": {
      "text/plain": [
       "<Axes: >"
      ]
     },
     "execution_count": 125,
     "metadata": {},
     "output_type": "execute_result"
    },
    {
     "data": {
      "image/png": "[encoded data removed]",
      "text/plain": [
       "<Figure size 640x480 with 1 Axes>"
      ]
     },
     "metadata": {},
     "output_type": "display_data"
    }
   ],
   "source": [
    "np.sqrt(df['0']**2 + df['1']**2 + df['2']**2).plot()"
   ]
  },
  {
   "cell_type": "markdown",
   "id": "f20374e0-07e3-4bff-8f67-6fbbdd5c48d8",
   "metadata": {},
   "source": [
    "## SipceyPy tests"
   ]
  },
  {
   "cell_type": "code",
   "execution_count": 128,
   "id": "a1caf9d7-7ce0-4338-bf80-836ec09fe082",
   "metadata": {},
   "outputs": [],
   "source": [
    "import spiceypy as spice"
   ]
  },
  {
   "cell_type": "code",
   "execution_count": 131,
   "id": "ed0b74cd-8427-482d-9a11-da2a8e374503",
   "metadata": {},
   "outputs": [],
   "source": [
    "mu    =  3.9860043543609598E+05;\n",
    "r     =  1.0e+08;\n",
    "speed =  np.sqrt( mu / r );\n",
    "t     =  spice.pi()*r/speed;"
   ]
  },
  {
   "cell_type": "code",
   "execution_count": 133,
   "id": "108166d9-b1ac-4c35-8e63-8fc4feeaef01",
   "metadata": {},
   "outputs": [],
   "source": [
    "pvinit = np.zeros(6)\n",
    "pvinit[0] =  0.0;\n",
    "pvinit[1] =  r/np.sqrt(2.0);\n",
    "pvinit[2] =  r/np.sqrt(2.0);\n",
    "pvinit[3] =  0.0;\n",
    "pvinit[4] = -speed/np.sqrt(2.0);\n",
    "pvinit[5] =  speed/np.sqrt(2.0);"
   ]
  },
  {
   "cell_type": "code",
   "execution_count": 138,
   "id": "47add28b-23fd-4e4d-b592-898c76f47fa7",
   "metadata": {},
   "outputs": [
    {
     "name": "stdout",
     "output_type": "stream",
     "text": [
      "6.32 μs ± 11.3 ns per loop (mean ± std. dev. of 7 runs, 100,000 loops each)\n"
     ]
    }
   ],
   "source": [
    "%%timeit\n",
    "res = spice.prop2b(mu, pvinit, t)"
   ]
  },
  {
   "cell_type": "code",
   "execution_count": 182,
   "id": "fafb2b76-bbc1-47e1-980c-fa27eb17838a",
   "metadata": {},
   "outputs": [
    {
     "name": "stdout",
     "output_type": "stream",
     "text": [
      "CPU times: user 75.9 ms, sys: 5.38 ms, total: 81.3 ms\n",
      "Wall time: 35.1 s\n"
     ]
    }
   ],
   "source": [
    "%%time\n",
    "from astroquery.imcce import Skybot\n",
    "from astropy.coordinates import SkyCoord\n",
    "from astropy.time import Time\n",
    "import astropy.units as u\n",
    "\n",
    "field = SkyCoord(0*u.deg, 0*u.deg)\n",
    "epoch = Time('1960-07-18 21:42', format='iso')\n",
    "results = Skybot.cone_search(field, 60*u.arcmin, epoch, location='X05')"
   ]
  },
  {
   "cell_type": "code",
   "execution_count": 180,
   "id": "c1f09ecc-4f5e-4953-96a2-0534553ef485",
   "metadata": {},
   "outputs": [
    {
     "data": {
      "text/html": [
       "<div><i>QTable length=352</i>\n",
       "<table id=\"table6360509632\" class=\"table-striped table-bordered table-condensed\">\n",
       "<thead><tr><th>Number</th><th>Name</th><th>RA</th><th>DEC</th><th>Type</th><th>V</th><th>posunc</th><th>centerdist</th><th>RA_rate</th><th>DEC_rate</th><th>geodist</th><th>heliodist</th><th>alpha</th><th>elong</th><th>x</th><th>y</th><th>z</th><th>vx</th><th>vy</th><th>vz</th><th>epoch</th></tr></thead>\n",
       "<thead><tr><th></th><th></th><th>deg</th><th>deg</th><th></th><th>mag</th><th>arcsec</th><th>arcsec</th><th>arcsec / h</th><th>arcsec / h</th><th>AU</th><th>AU</th><th>deg</th><th>deg</th><th>AU</th><th>AU</th><th>AU</th><th>AU / d</th><th>AU / d</th><th>AU / d</th><th>d</th></tr></thead>\n",
       "<thead><tr><th>int64</th><th>str15</th><th>float64</th><th>float64</th><th>str19</th><th>float64</th><th>float64</th><th>float64</th><th>float64</th><th>float64</th><th>float64</th><th>float64</th><th>float64</th><th>float64</th><th>float64</th><th>float64</th><th>float64</th><th>float64</th><th>float64</th><th>float64</th><th>float64</th></tr></thead>\n",
       "<tr><td>--</td><td>2013 WD117</td><td>359.9215341666666</td><td>-3.194444444444445e-05</td><td>MB&gt;Middle</td><td>22.8</td><td>16.898</td><td>282.477</td><td>22.901</td><td>14.618</td><td>1.53992758284</td><td>2.20088503295</td><td>24.44</td><td>116.73</td><td>1.977974634</td><td>-0.936932132</td><td>-0.414102623</td><td>0.002160052</td><td>0.010697011</td><td>0.005567626</td><td>2444430.0</td></tr>\n",
       "<tr><td>--</td><td>2019 SB65</td><td>0.055943333333333324</td><td>-0.08704472222222222</td><td>MB&gt;Middle</td><td>22.4</td><td>4.49</td><td>372.499</td><td>9.1595</td><td>11.451</td><td>1.91055793926</td><td>2.54213737596</td><td>21.0</td><td>116.64</td><td>2.331519246</td><td>-0.91360603</td><td>-0.416621869</td><td>0.003924987</td><td>0.00867946</td><td>0.005544868</td><td>2444430.0</td></tr>\n",
       "<tr><td>--</td><td>2009 BD178</td><td>0.1135175</td><td>-0.021143611111111113</td><td>MB&gt;Middle</td><td>22.3</td><td>0.875</td><td>415.691</td><td>2.9358</td><td>10.85</td><td>1.92634749695</td><td>2.55594971719</td><td>20.89</td><td>116.56</td><td>2.324866807</td><td>-0.898651299</td><td>-0.413232928</td><td>0.006314722</td><td>0.007295924</td><td>0.005417586</td><td>2444430.0</td></tr>\n",
       "<tr><td>479500</td><td>2014 AW49</td><td>0.03639041666666666</td><td>-0.14533805555555557</td><td>MB&gt;Inner</td><td>22.5</td><td>1.467</td><td>539.37</td><td>18.7407</td><td>1.815</td><td>1.58065901265</td><td>2.23753032641</td><td>24.02</td><td>116.68</td><td>1.999563141</td><td>-0.927451061</td><td>-0.396930195</td><td>0.004193576</td><td>0.010023557</td><td>0.003316168</td><td>2444430.0</td></tr>\n",
       "<tr><td>--</td><td>2017 BH206</td><td>0.12962833333333335</td><td>0.09206222222222221</td><td>MB&gt;Outer</td><td>23.5</td><td>43.917</td><td>572.378</td><td>-0.9545</td><td>5.729</td><td>3.03033824916</td><td>3.60850121055</td><td>14.63</td><td>116.5</td><td>3.465758455</td><td>-0.886563734</td><td>-0.403719968</td><td>0.002290401</td><td>0.006386156</td><td>0.00502466</td><td>2444430.0</td></tr>\n",
       "<tr><td>--</td><td>2015 US111</td><td>359.90279499999997</td><td>0.1333352777777778</td><td>MB&gt;Outer</td><td>22.6</td><td>2.936</td><td>594.025</td><td>7.9577</td><td>-2.075</td><td>2.54876947924</td><td>3.1472414889</td><td>16.81</td><td>116.7</td><td>2.979845979</td><td>-0.923434074</td><td>-0.377794562</td><td>0.002782993</td><td>0.009105677</td><td>0.00237046</td><td>2444430.0</td></tr>\n",
       "<tr><td>610137</td><td>2005 XG124</td><td>0.10016333333333333</td><td>-0.13827472222222223</td><td>MB&gt;Outer</td><td>21.5</td><td>2.334</td><td>614.67</td><td>4.9999</td><td>11.051</td><td>2.2622102459</td><td>2.87311612528</td><td>18.48</td><td>116.62</td><td>2.684531581</td><td>-0.90486291</td><td>-0.422771735</td><td>0.003740191</td><td>0.007996335</td><td>0.005938695</td><td>2444430.0</td></tr>\n",
       "<tr><td>458667</td><td>2011 GV85</td><td>0.004092083333333333</td><td>-0.1741022222222222</td><td>MB&gt;Outer</td><td>22.7</td><td>2.45</td><td>626.943</td><td>3.4944</td><td>1.241</td><td>2.8502076812</td><td>3.43737663798</td><td>15.34</td><td>116.72</td><td>3.289734868</td><td>-0.907491401</td><td>-0.40271736</td><td>0.001862246</td><td>0.0079014</td><td>0.003474369</td><td>2444430.0</td></tr>\n",
       "<tr><td>611539</td><td>2006 XC81</td><td>0.15164708333333332</td><td>-0.10335305555555556</td><td>MB&gt;Outer</td><td>22.3</td><td>9.991</td><td>660.665</td><td>13.1654</td><td>3.401</td><td>2.08447973531</td><td>2.70432167978</td><td>19.7</td><td>116.56</td><td>2.519375077</td><td>-0.920713933</td><td>-0.401422167</td><td>0.002418772</td><td>0.009838928</td><td>0.003842727</td><td>2444430.0</td></tr>\n",
       "<tr><td>...</td><td>...</td><td>...</td><td>...</td><td>...</td><td>...</td><td>...</td><td>...</td><td>...</td><td>...</td><td>...</td><td>...</td><td>...</td><td>...</td><td>...</td><td>...</td><td>...</td><td>...</td><td>...</td><td>...</td><td>...</td></tr>\n",
       "<tr><td>5124</td><td>Muraoka</td><td>0.7569254166666667</td><td>0.6347288888888889</td><td>MB&gt;Inner</td><td>18.1</td><td>2.382</td><td>3556.513</td><td>13.67</td><td>6.689</td><td>1.62409788941</td><td>2.26626292858</td><td>23.91</td><td>115.71</td><td>2.027775083</td><td>-0.897789629</td><td>-0.38240922</td><td>0.005787654</td><td>0.009049127</td><td>0.004115481</td><td>2444430.0</td></tr>\n",
       "<tr><td>268915</td><td>2007 CF23</td><td>0.9673862499999998</td><td>-0.2230213888888889</td><td>MB&gt;Inner</td><td>21.5</td><td>1.065</td><td>3574.289</td><td>17.2087</td><td>0.957</td><td>1.75086424136</td><td>2.38451734222</td><td>22.62</td><td>115.86</td><td>2.174396749</td><td>-0.897821947</td><td>-0.3986631</td><td>0.003648375</td><td>0.009932735</td><td>0.003210461</td><td>2444430.0</td></tr>\n",
       "<tr><td>488300</td><td>2016 UP52</td><td>0.5915799999999999</td><td>0.7985786111111111</td><td>MB&gt;Inner</td><td>22.0</td><td>0.097</td><td>3578.1</td><td>18.9022</td><td>10.861</td><td>1.63183070985</td><td>2.27432175473</td><td>23.8</td><td>115.8</td><td>2.064422369</td><td>-0.911829419</td><td>-0.384504416</td><td>0.002703819</td><td>0.010055775</td><td>0.004845933</td><td>2444430.0</td></tr>\n",
       "<tr><td>--</td><td>2015 ED38</td><td>359.53142333333324</td><td>-0.8766319444444445</td><td>MB&gt;Middle</td><td>24.0</td><td>40.713</td><td>3578.749</td><td>-0.6941</td><td>7.467</td><td>2.26640626658</td><td>2.88719974777</td><td>18.25</td><td>117.44</td><td>2.681813762</td><td>-0.914304158</td><td>-0.444468505</td><td>0.004439841</td><td>0.006606896</td><td>0.005136953</td><td>2444430.0</td></tr>\n",
       "<tr><td>--</td><td>2005 QH200</td><td>359.46251249999995</td><td>-0.8368425</td><td>MB&gt;Inner</td><td>22.0</td><td>4.882</td><td>3580.827</td><td>32.4595</td><td>-1.866</td><td>1.16557555356</td><td>1.87355698852</td><td>28.88</td><td>117.48</td><td>1.548450452</td><td>-0.948383771</td><td>-0.404889206</td><td>0.008096534</td><td>0.010892683</td><td>0.002740215</td><td>2444430.0</td></tr>\n",
       "<tr><td>476163</td><td>2007 TB379</td><td>0.5990795833333333</td><td>-0.7951658333333333</td><td>MB&gt;Middle</td><td>21.1</td><td>5.385</td><td>3584.416</td><td>29.2418</td><td>6.063</td><td>1.41454661856</td><td>2.0839541635</td><td>25.99</td><td>116.42</td><td>1.819654392</td><td>-0.925369862</td><td>-0.419693398</td><td>0.005672275</td><td>0.011242098</td><td>0.004061137</td><td>2444430.0</td></tr>\n",
       "<tr><td>--</td><td>2009 SD378</td><td>0.8173970833333333</td><td>0.5713077777777777</td><td>MB&gt;Inner</td><td>22.1</td><td>8.755</td><td>3590.464</td><td>31.8542</td><td>10.625</td><td>1.31029231207</td><td>1.98289182512</td><td>27.61</td><td>115.68</td><td>1.719839392</td><td>-0.92127072</td><td>-0.390524832</td><td>0.005226551</td><td>0.011200173</td><td>0.004431986</td><td>2444430.0</td></tr>\n",
       "<tr><td>144244</td><td>2004 CW76</td><td>359.4125045833333</td><td>0.8059233333333333</td><td>MB&gt;Middle</td><td>20.5</td><td>0.564</td><td>3590.703</td><td>12.828</td><td>3.797</td><td>1.84721331327</td><td>2.48577996152</td><td>21.45</td><td>116.87</td><td>2.259380315</td><td>-0.942257168</td><td>-0.369913487</td><td>0.004840155</td><td>0.009506319</td><td>0.003648604</td><td>2444430.0</td></tr>\n",
       "<tr><td>--</td><td>2013 CE236</td><td>359.00196</td><td>0.058056944444444446</td><td>MB&gt;Middle</td><td>21.9</td><td>1.952</td><td>3599.382</td><td>0.0257</td><td>17.432</td><td>2.04973264785</td><td>2.68356969772</td><td>19.67</td><td>117.55</td><td>2.47489645</td><td>-0.934262241</td><td>-0.426545305</td><td>0.003425388</td><td>0.006889241</td><td>0.007136598</td><td>2444430.0</td></tr>\n",
       "</table></div>"
      ],
      "text/plain": [
       "<QTable length=352>\n",
       "Number    Name             RA          ...      vy          vz       epoch  \n",
       "                          deg          ...    AU / d      AU / d       d    \n",
       "int64    str15          float64        ...   float64     float64    float64 \n",
       "------ ---------- -------------------- ... ----------- ----------- ---------\n",
       "    -- 2013 WD117    359.9215341666666 ... 0.010697011 0.005567626 2444430.0\n",
       "    --  2019 SB65 0.055943333333333324 ...  0.00867946 0.005544868 2444430.0\n",
       "    -- 2009 BD178            0.1135175 ... 0.007295924 0.005417586 2444430.0\n",
       "479500  2014 AW49  0.03639041666666666 ... 0.010023557 0.003316168 2444430.0\n",
       "    -- 2017 BH206  0.12962833333333335 ... 0.006386156  0.00502466 2444430.0\n",
       "    -- 2015 US111   359.90279499999997 ... 0.009105677  0.00237046 2444430.0\n",
       "610137 2005 XG124  0.10016333333333333 ... 0.007996335 0.005938695 2444430.0\n",
       "458667  2011 GV85 0.004092083333333333 ...   0.0079014 0.003474369 2444430.0\n",
       "611539  2006 XC81  0.15164708333333332 ... 0.009838928 0.003842727 2444430.0\n",
       "   ...        ...                  ... ...         ...         ...       ...\n",
       "  5124    Muraoka   0.7569254166666667 ... 0.009049127 0.004115481 2444430.0\n",
       "268915  2007 CF23   0.9673862499999998 ... 0.009932735 0.003210461 2444430.0\n",
       "488300  2016 UP52   0.5915799999999999 ... 0.010055775 0.004845933 2444430.0\n",
       "    --  2015 ED38   359.53142333333324 ... 0.006606896 0.005136953 2444430.0\n",
       "    -- 2005 QH200   359.46251249999995 ... 0.010892683 0.002740215 2444430.0\n",
       "476163 2007 TB379   0.5990795833333333 ... 0.011242098 0.004061137 2444430.0\n",
       "    -- 2009 SD378   0.8173970833333333 ... 0.011200173 0.004431986 2444430.0\n",
       "144244  2004 CW76    359.4125045833333 ... 0.009506319 0.003648604 2444430.0\n",
       "    -- 2013 CE236            359.00196 ... 0.006889241 0.007136598 2444430.0"
      ]
     },
     "execution_count": 180,
     "metadata": {},
     "output_type": "execute_result"
    }
   ],
   "source": [
    "results"
   ]
  },
  {
   "cell_type": "markdown",
   "id": "129c101e-6078-4d95-b3fa-6e497248c2b6",
   "metadata": {},
   "source": [
    "## Healpix"
   ]
  },
  {
   "cell_type": "code",
   "execution_count": 5,
   "id": "0e2a8ac7-5517-42b2-9af8-a435975b6522",
   "metadata": {},
   "outputs": [],
   "source": [
    "import healpy as hp\n",
    "import numpy as np"
   ]
  },
  {
   "cell_type": "code",
   "execution_count": 6,
   "id": "f14a4843-0234-4236-93a2-efc1be105a9c",
   "metadata": {},
   "outputs": [
    {
     "data": {
      "text/plain": [
       "array([18090, 22186,  4095])"
      ]
     },
     "execution_count": 6,
     "metadata": {},
     "output_type": "execute_result"
    }
   ],
   "source": [
    "x, y, z = map(np.asarray, ([1, 0, 0], [0, 1, 0], [0, 0, 1]))\n",
    "hp.vec2pix(64, x, y, z, nest=True)"
   ]
  },
  {
   "cell_type": "code",
   "execution_count": 9,
   "id": "a73d0ae2-5b39-417e-973d-e57fc35ec727",
   "metadata": {},
   "outputs": [
    {
     "name": "stdout",
     "output_type": "stream",
     "text": [
      "[[ 0.9534431  -0.30148231  0.00739386]\n",
      " [ 0.93533265 -0.29106486 -0.20108229]\n",
      " [ 0.9736005   0.1094392  -0.20031256]\n",
      " [ 0.96495966 -0.21554351 -0.14964575]\n",
      " [ 0.99125734  0.02109709 -0.13024514]\n",
      " [ 0.99448972  0.09709158 -0.03954005]\n",
      " [ 0.89708951  0.26915118  0.35041127]\n",
      " [ 0.97666577 -0.14985622  0.15384112]\n",
      " [ 0.91855812 -0.0528275   0.39174002]\n",
      " [ 0.99126831  0.07476125 -0.10861809]]\n"
     ]
    }
   ],
   "source": [
    "import numpy as np\n",
    "\n",
    "def generate_random_vectors_within_angle(original_vector, N, alpha):\n",
    "    \"\"\"\n",
    "    Generates N random 3D unit vectors within an angle alpha from the original vector.\n",
    "    \n",
    "    Parameters:\n",
    "    original_vector (numpy.ndarray): The original 3D unit vector.\n",
    "    N (int): Number of random vectors to generate.\n",
    "    alpha (float): Maximum angle in radians from the original vector.\n",
    "\n",
    "    Returns:\n",
    "    numpy.ndarray: An array of shape (N, 3) containing the generated vectors.\n",
    "    \"\"\"\n",
    "    # Normalize the original vector to ensure it is a unit vector\n",
    "    original_vector = original_vector / np.linalg.norm(original_vector)\n",
    "\n",
    "    # Generate random angles theta and phi\n",
    "    theta = np.arccos(np.random.uniform(np.cos(alpha), 1, N))\n",
    "    phi = np.random.uniform(0, 2 * np.pi, N)\n",
    "\n",
    "    # Convert spherical coordinates to Cartesian coordinates\n",
    "    x = np.sin(theta) * np.cos(phi)\n",
    "    y = np.sin(theta) * np.sin(phi)\n",
    "    z = np.cos(theta)\n",
    "    random_vectors = np.stack((x, y, z), axis=-1)\n",
    "\n",
    "    # Create a rotation matrix to align the z-axis with the original vector\n",
    "    def rotation_matrix_from_vectors(vec1, vec2):\n",
    "        a, b = (vec1 / np.linalg.norm(vec1)).reshape(3), (vec2 / np.linalg.norm(vec2)).reshape(3)\n",
    "        v = np.cross(a, b)\n",
    "        c = np.dot(a, b)\n",
    "        s = np.linalg.norm(v)\n",
    "        kmat = np.array([[0, -v[2], v[1]], [v[2], 0, -v[0]], [-v[1], v[0], 0]])\n",
    "        rotation_matrix = np.eye(3) + kmat + kmat.dot(kmat) * ((1 - c) / (s ** 2))\n",
    "        return rotation_matrix\n",
    "\n",
    "    # Rotate the random vectors to align with the original vector\n",
    "    rotation_matrix = rotation_matrix_from_vectors(np.array([0, 0, 1]), original_vector)\n",
    "    aligned_vectors = random_vectors.dot(rotation_matrix.T)\n",
    "\n",
    "    return aligned_vectors\n",
    "\n",
    "# Example usage\n",
    "original_vector = np.array([1, 0, 0])  # Example original unit vector\n",
    "N = 10  # Number of vectors to generate\n",
    "alpha = np.pi / 6  # Maximum angle in radians (30 degrees)\n",
    "\n",
    "random_vectors = generate_random_vectors_within_angle(original_vector, N, alpha)\n",
    "print(random_vectors)\n"
   ]
  },
  {
   "cell_type": "code",
   "execution_count": 12,
   "id": "4d22819a-e1e9-4824-9b78-41199db239e5",
   "metadata": {},
   "outputs": [
    {
     "data": {
      "text/plain": [
       "array([[ 0.70710678, -0.70710678,  0.        ],\n",
       "       [ 0.70710678,  0.70710678,  0.        ],\n",
       "       [ 0.        ,  0.        ,  1.        ]])"
      ]
     },
     "execution_count": 12,
     "metadata": {},
     "output_type": "execute_result"
    }
   ],
   "source": [
    "def rotation_matrix_from_vectors(vec1, vec2):\n",
    "    a, b = (vec1 / np.linalg.norm(vec1)).reshape(3), (vec2 / np.linalg.norm(vec2)).reshape(3)\n",
    "    v = np.cross(a, b)\n",
    "    c = np.dot(a, b)\n",
    "    s = np.linalg.norm(v)\n",
    "    kmat = np.array([[0, -v[2], v[1]], [v[2], 0, -v[0]], [-v[1], v[0], 0]])\n",
    "    rotation_matrix = np.eye(3) + kmat + kmat.dot(kmat) * ((1 - c) / (s ** 2))\n",
    "    return rotation_matrix\n",
    "\n",
    "v1 = np.array([1, 0, 0])\n",
    "v2 = np.array([1, 1, 0])\n",
    "\n",
    "rotation_matrix_from_vectors(v1, v2)"
   ]
  },
  {
   "cell_type": "code",
   "execution_count": 52,
   "id": "d787cdba-9fbd-455c-8e7c-4a2a567232f7",
   "metadata": {},
   "outputs": [
    {
     "name": "stdout",
     "output_type": "stream",
     "text": [
      "Rotation matrix for vector [0 1 0]:\n",
      "[[ 0. -1.  0.]\n",
      " [ 1.  0.  0.]\n",
      " [ 0.  0.  1.]]\n",
      "\n",
      "Rotation matrix for vector [0 0 1]:\n",
      "[[ 0.  0. -1.]\n",
      " [ 0.  1.  0.]\n",
      " [ 1.  0.  0.]]\n",
      "\n",
      "Rotation matrix for vector [1 0 0]:\n",
      "[[1. 0. 0.]\n",
      " [0. 1. 0.]\n",
      " [0. 0. 1.]]\n",
      "\n",
      "Rotation matrix for vector [0 1 0]:\n",
      "[[ 0. -1.  0.]\n",
      " [ 1.  0.  0.]\n",
      " [ 0.  0.  1.]]\n",
      "\n"
     ]
    },
    {
     "name": "stderr",
     "output_type": "stream",
     "text": [
      "/var/folders/0n/3cchn_wj5619fqz4dswygvj80000gn/T/ipykernel_24694/4026715684.py:34: RuntimeWarning: invalid value encountered in divide\n",
      "  rotation_matrices = identity + kmat + kmat_squared * ((1 - c) / (s ** 2))[:, np.newaxis, np.newaxis]\n"
     ]
    }
   ],
   "source": [
    "import numpy as np\n",
    "\n",
    "def rotation_matrices_to_align_with_x_axis(vectors):\n",
    "    \"\"\"\n",
    "    Generates a list of rotation matrices that rotate the x-axis (1, 0, 0) onto each input vector.\n",
    "    \n",
    "    Parameters:\n",
    "    vectors (numpy.ndarray): An array of shape (M, 3) containing the input 3D vectors.\n",
    "\n",
    "    Returns:\n",
    "    numpy.ndarray: An array of shape (M, 3, 3) containing the rotation matrices.\n",
    "    \"\"\"\n",
    "    x_axis = np.array([1, 0, 0])\n",
    "    a = np.tile(x_axis, (vectors.shape[0], 1))\n",
    "    b = vectors / np.linalg.norm(vectors, axis=1)[:, np.newaxis]\n",
    "    \n",
    "    v = np.cross(a, b)\n",
    "    c = np.einsum('ij,ij->i', a, b)\n",
    "    s = np.linalg.norm(v, axis=1)\n",
    "    \n",
    "    kmat = np.zeros((vectors.shape[0], 3, 3))\n",
    "    kmat[:, 0, 1] = -v[:, 2]\n",
    "    kmat[:, 0, 2] = v[:, 1]\n",
    "    kmat[:, 1, 0] = v[:, 2]\n",
    "    kmat[:, 1, 2] = -v[:, 0]\n",
    "    kmat[:, 2, 0] = -v[:, 1]\n",
    "    kmat[:, 2, 1] = v[:, 0]\n",
    "    \n",
    "    identity = np.eye(3)\n",
    "    identity = np.tile(identity, (vectors.shape[0], 1, 1))\n",
    "    \n",
    "    kmat_squared = np.einsum('...ij,...jk->...ik', kmat, kmat)\n",
    "    \n",
    "    rotation_matrices = identity + kmat + kmat_squared * ((1 - c) / (s ** 2))[:, np.newaxis, np.newaxis]\n",
    "    \n",
    "    # Handle the case where the input vector is parallel to the x-axis\n",
    "    parallel_indices = np.where(s == 0)[0]\n",
    "    rotation_matrices[parallel_indices] = np.eye(3)\n",
    "    \n",
    "    return rotation_matrices\n",
    "\n",
    "# Example usage\n",
    "input_vectors = np.array([\n",
    "    [0, 1, 0],\n",
    "    [0, 0, 1],\n",
    "    [1, 0, 0],\n",
    "    [0, 1, 0],\n",
    "])  # Example input vectors\n",
    "\n",
    "rotation_matrices = rotation_matrices_to_align_with_x_axis(input_vectors)\n",
    "for i, matrix in enumerate(rotation_matrices):\n",
    "    print(f\"Rotation matrix for vector {input_vectors[i]}:\\n{matrix}\\n\")\n"
   ]
  },
  {
   "cell_type": "code",
   "execution_count": 18,
   "id": "e375cd68-35e9-4b18-880c-279f5fb9cdc7",
   "metadata": {},
   "outputs": [
    {
     "data": {
      "text/plain": [
       "array([1., 0., 0.])"
      ]
     },
     "execution_count": 18,
     "metadata": {},
     "output_type": "execute_result"
    }
   ],
   "source": [
    "v1 = input_vectors[0]\n",
    "v1.dot(rotation_matrices[0])"
   ]
  },
  {
   "cell_type": "code",
   "execution_count": 35,
   "id": "71b572de-59d1-4b9e-85e8-a64e913f0d2f",
   "metadata": {},
   "outputs": [
    {
     "data": {
      "text/plain": [
       "array([0., 0., 1.])"
      ]
     },
     "execution_count": 35,
     "metadata": {},
     "output_type": "execute_result"
    }
   ],
   "source": [
    "np.array([1, 0, 0]).dot(rotation_matrices[1].T)"
   ]
  },
  {
   "cell_type": "code",
   "execution_count": 61,
   "id": "1805be75-641b-424c-9c8c-c10f145fd44c",
   "metadata": {},
   "outputs": [
    {
     "ename": "ValueError",
     "evalue": "shapes (4,3,3) and (4,3) not aligned: 3 (dim 2) != 4 (dim 0)",
     "output_type": "error",
     "traceback": [
      "\u001b[0;31m---------------------------------------------------------------------------\u001b[0m",
      "\u001b[0;31mValueError\u001b[0m                                Traceback (most recent call last)",
      "Cell \u001b[0;32mIn[61], line 8\u001b[0m\n\u001b[1;32m      1\u001b[0m xx \u001b[38;5;241m=\u001b[39m np\u001b[38;5;241m.\u001b[39marray([\n\u001b[1;32m      2\u001b[0m     [\u001b[38;5;241m1\u001b[39m, \u001b[38;5;241m0\u001b[39m, \u001b[38;5;241m0\u001b[39m],\n\u001b[1;32m      3\u001b[0m     [\u001b[38;5;241m1\u001b[39m, \u001b[38;5;241m0\u001b[39m, \u001b[38;5;241m0\u001b[39m],\n\u001b[1;32m      4\u001b[0m     [\u001b[38;5;241m1\u001b[39m, \u001b[38;5;241m0\u001b[39m, \u001b[38;5;241m0\u001b[39m],\n\u001b[1;32m      5\u001b[0m     [\u001b[38;5;241m1\u001b[39m, \u001b[38;5;241m0\u001b[39m, \u001b[38;5;241m0\u001b[39m]\n\u001b[1;32m      6\u001b[0m ])\n\u001b[1;32m      7\u001b[0m R \u001b[38;5;241m=\u001b[39m rotation_matrices\n\u001b[0;32m----> 8\u001b[0m \u001b[43mnp\u001b[49m\u001b[38;5;241;43m.\u001b[39;49m\u001b[43mdot\u001b[49m\u001b[43m(\u001b[49m\u001b[43mrotation_matrices\u001b[49m\u001b[43m,\u001b[49m\u001b[43m \u001b[49m\u001b[43mxx\u001b[49m\u001b[43m)\u001b[49m\n",
      "\u001b[0;31mValueError\u001b[0m: shapes (4,3,3) and (4,3) not aligned: 3 (dim 2) != 4 (dim 0)"
     ]
    }
   ],
   "source": [
    "xx = np.array([\n",
    "    [1, 0, 0],\n",
    "    [1, 0, 0],\n",
    "    [1, 0, 0],\n",
    "    [1, 0, 0]\n",
    "])\n",
    "R = rotation_matrices\n",
    "np.dot(rotation_matrices, xx)"
   ]
  },
  {
   "cell_type": "code",
   "execution_count": 45,
   "id": "f83057be-560f-4ba0-9128-d1108fc811c9",
   "metadata": {},
   "outputs": [
    {
     "data": {
      "text/plain": [
       "(array([1, 0, 0]),\n",
       " array([[ 0., -1.,  0.],\n",
       "        [ 1.,  0.,  0.],\n",
       "        [ 0.,  0.,  1.]]))"
      ]
     },
     "execution_count": 45,
     "metadata": {},
     "output_type": "execute_result"
    }
   ],
   "source": [
    "xx[0], R[0]"
   ]
  },
  {
   "cell_type": "code",
   "execution_count": 49,
   "id": "8b675a65-1154-4d5b-a4a8-0f515134e95f",
   "metadata": {},
   "outputs": [
    {
     "data": {
      "text/plain": [
       "array([0., 1., 0.])"
      ]
     },
     "execution_count": 49,
     "metadata": {},
     "output_type": "execute_result"
    }
   ],
   "source": [
    "R[0] @ xx[0]"
   ]
  },
  {
   "cell_type": "code",
   "execution_count": 53,
   "id": "e8a9d3bc-aacd-4daa-bf09-4102d4cc1359",
   "metadata": {},
   "outputs": [
    {
     "data": {
      "text/plain": [
       "(4, 3, 3)"
      ]
     },
     "execution_count": 53,
     "metadata": {},
     "output_type": "execute_result"
    }
   ],
   "source": [
    "rotation_matrices.shape"
   ]
  },
  {
   "cell_type": "code",
   "execution_count": 63,
   "id": "72e91582-afb6-435b-b500-4ed052c8f93e",
   "metadata": {},
   "outputs": [
    {
     "data": {
      "text/plain": [
       "array([[0., 1., 0.],\n",
       "       [0., 0., 1.],\n",
       "       [1., 0., 0.],\n",
       "       [0., 1., 0.]])"
      ]
     },
     "execution_count": 63,
     "metadata": {},
     "output_type": "execute_result"
    }
   ],
   "source": [
    "result = np.einsum('ijk,ik->ij', rotation_matrices, xx)\n",
    "result"
   ]
  },
  {
   "cell_type": "code",
   "execution_count": 60,
   "id": "7dff213f-8c66-4b6b-9017-4f90a29666e9",
   "metadata": {},
   "outputs": [
    {
     "data": {
      "text/plain": [
       "((4, 3, 3), (3, 3))"
      ]
     },
     "execution_count": 60,
     "metadata": {},
     "output_type": "execute_result"
    }
   ],
   "source": [
    "rotation_matrices.shape, xx.shape"
   ]
  },
  {
   "cell_type": "code",
   "execution_count": 66,
   "id": "3216a7b4-63cc-4833-bc20-796d5d1d1b48",
   "metadata": {},
   "outputs": [
    {
     "name": "stdout",
     "output_type": "stream",
     "text": [
      "(4, 5, 3)\n",
      "[[[0.68230713 1.12817877 0.80273685]\n",
      "  [0.87253749 1.27297747 0.60806246]\n",
      "  [0.61735113 0.72726561 0.6892953 ]\n",
      "  [0.67960524 0.76924954 0.61768902]\n",
      "  [0.85637882 1.13261205 0.55974445]]\n",
      "\n",
      " [[0.66992284 0.5745367  0.75565674]\n",
      "  [0.8039158  0.52532227 0.71498413]\n",
      "  [0.50430161 0.91471296 0.67468383]\n",
      "  [0.8537417  0.16519554 0.63277185]\n",
      "  [0.6128414  0.600294   0.73443697]]\n",
      "\n",
      " [[1.0653532  0.88100289 1.2383985 ]\n",
      "  [1.01005022 0.82638782 1.2304612 ]\n",
      "  [0.91586187 0.83929298 1.12641604]\n",
      "  [1.02253573 0.62086284 1.07903186]\n",
      "  [0.8816504  0.8571641  1.07452414]]\n",
      "\n",
      " [[0.71094173 0.32409703 0.47629816]\n",
      "  [1.04946863 0.73524563 0.98822627]\n",
      "  [1.07439673 0.67969609 0.98561187]\n",
      "  [1.07771221 0.74130439 1.04166782]\n",
      "  [1.00845349 0.75320582 1.03266703]]]\n"
     ]
    }
   ],
   "source": [
    "import numpy as np\n",
    "\n",
    "# Example data\n",
    "N = 4   # Number of rotation matrices\n",
    "M = 5   # Number of vectors per rotation matrix\n",
    "\n",
    "# Generate random rotation matrices (N, 3, 3)\n",
    "rotation_matrices = np.random.rand(N, 3, 3)\n",
    "\n",
    "# Generate random unit vectors (N, M, 3)\n",
    "vectors = np.random.rand(N, M, 3)\n",
    "vectors /= np.linalg.norm(vectors, axis=-1, keepdims=True)  # Normalize to unit vectors\n",
    "\n",
    "# Perform the batch matrix-vector multiplication\n",
    "# Shape (N, M, 3) = (N, 1, 3, 3) @ (N, M, 3, 1)\n",
    "result = np.einsum('nij,nmj->nmi', rotation_matrices, vectors)\n",
    "\n",
    "# Verify the shape\n",
    "print(result.shape)  # Should be (N, M, 3)\n",
    "print(result)"
   ]
  },
  {
   "cell_type": "code",
   "execution_count": 1,
   "id": "efbbaf29-5742-4630-8d2f-2a6fffd2b2bd",
   "metadata": {},
   "outputs": [],
   "source": [
    "##########################"
   ]
  },
  {
   "cell_type": "code",
   "execution_count": 2,
   "id": "0d252485-1a67-45fa-9430-4117c99e1d66",
   "metadata": {},
   "outputs": [
    {
     "name": "stdout",
     "output_type": "stream",
     "text": [
      "[[[ 1.00000000e+00  0.00000000e+00  0.00000000e+00]\n",
      "  [ 0.00000000e+00  1.00000000e+00  0.00000000e+00]\n",
      "  [ 0.00000000e+00  0.00000000e+00  1.00000000e+00]]\n",
      "\n",
      " [[ 0.00000000e+00  0.00000000e+00  1.00000000e+00]\n",
      "  [ 0.00000000e+00  1.00000000e+00  0.00000000e+00]\n",
      "  [-1.00000000e+00  0.00000000e+00  0.00000000e+00]]\n",
      "\n",
      " [[ 1.00000000e+00  0.00000000e+00  0.00000000e+00]\n",
      "  [ 0.00000000e+00  0.00000000e+00  1.00000000e+00]\n",
      "  [ 0.00000000e+00 -1.00000000e+00  0.00000000e+00]]\n",
      "\n",
      " [[ 5.00000000e-01 -5.00000000e-01  7.07106781e-01]\n",
      "  [-5.00000000e-01  5.00000000e-01  7.07106781e-01]\n",
      "  [-7.07106781e-01 -7.07106781e-01 -2.22044605e-16]]]\n"
     ]
    }
   ],
   "source": [
    "import numpy as np\n",
    "\n",
    "def rotation_matrices_to_z(vectors):\n",
    "    # Ensure vectors are normalized\n",
    "    vectors = vectors / np.linalg.norm(vectors, axis=1)[:, np.newaxis]\n",
    "\n",
    "    # Components of the input vectors\n",
    "    x, y, z = vectors[:, 0], vectors[:, 1], vectors[:, 2]\n",
    "\n",
    "    # Compute cosine and sine of the rotation angle\n",
    "    cos_theta = z\n",
    "    sin_theta = np.sqrt(1 - z**2)\n",
    "\n",
    "    # Avoid division by zero for small angles\n",
    "    sin_theta = np.where(sin_theta == 0, 1, sin_theta)\n",
    "    \n",
    "    # Compute the components of the cross product of (0, 0, 1) and the input vectors\n",
    "    kx, ky, kz = -y / sin_theta, x / sin_theta, np.zeros_like(z)\n",
    "\n",
    "    # Create the skew-symmetric cross-product matrices\n",
    "    K = np.zeros((vectors.shape[0], 3, 3))\n",
    "    K[:, 0, 1] = -kz\n",
    "    K[:, 0, 2] = ky\n",
    "    K[:, 1, 0] = kz\n",
    "    K[:, 1, 2] = -kx\n",
    "    K[:, 2, 0] = -ky\n",
    "    K[:, 2, 1] = kx\n",
    "\n",
    "    # Compute the outer products of the vectors\n",
    "    I = np.eye(3)\n",
    "    outer = np.einsum('ij,ik->ijk', vectors, vectors)\n",
    "    \n",
    "    # Compute the rotation matrices\n",
    "    rotation_matrices = (\n",
    "        I + K * sin_theta[:, np.newaxis, np.newaxis] + \n",
    "        np.matmul(K, K) * (1 - cos_theta)[:, np.newaxis, np.newaxis]\n",
    "    )\n",
    "\n",
    "    return rotation_matrices\n",
    "\n",
    "# Example usage\n",
    "vectors = np.array([[0.0, 0.0, 1.0], [1.0, 0.0, 0.0], [0.0, 1.0, 0.0], [np.sqrt(2), np.sqrt(2), 0]])\n",
    "rotation_matrices = rotation_matrices_to_z(vectors)\n",
    "print(rotation_matrices)"
   ]
  },
  {
   "cell_type": "code",
   "execution_count": 3,
   "id": "90e9f784-3d95-4353-bd1e-c2d5bf41a1a8",
   "metadata": {},
   "outputs": [
    {
     "name": "stdout",
     "output_type": "stream",
     "text": [
      "(1000, 3)\n"
     ]
    },
    {
     "data": {
      "image/png": "[encoded data removed]",
      "text/plain": [
       "<Figure size 640x480 with 1 Axes>"
      ]
     },
     "metadata": {},
     "output_type": "display_data"
    }
   ],
   "source": [
    "import numpy as np\n",
    "\n",
    "def generate_random_unit_vectors(N, alpha):\n",
    "    # Convert alpha from degrees to radians if it's in degrees\n",
    "    alpha_rad = np.radians(alpha)\n",
    "\n",
    "    # Generate random azimuthal angles between 0 and 2*pi\n",
    "    azimuthal_angles = np.random.uniform(0, 2 * np.pi, N)\n",
    "\n",
    "    # Generate random cosines of polar angles within the range specified by alpha\n",
    "    cos_polar_angles = np.random.uniform(np.cos(alpha_rad), 1, N)\n",
    "    polar_angles = np.arccos(cos_polar_angles)\n",
    "\n",
    "    # Calculate the Cartesian coordinates of the unit vectors\n",
    "    x = np.sin(polar_angles) * np.cos(azimuthal_angles)\n",
    "    y = np.sin(polar_angles) * np.sin(azimuthal_angles)\n",
    "    z = np.cos(polar_angles)\n",
    "\n",
    "    # Stack the coordinates to form the final array of vectors\n",
    "    vectors = np.stack((x, y, z), axis=-1)\n",
    "\n",
    "    return vectors\n",
    "\n",
    "# Example usage\n",
    "N = 1000\n",
    "alpha = 3  # Angle in degrees\n",
    "vectors = generate_random_unit_vectors(N, alpha)\n",
    "print(vectors.shape)\n",
    "\n",
    "import matplotlib.pyplot as plt\n",
    "plt.scatter(vectors[:, 0], vectors[:, 1])\n",
    "plt.gca().set_aspect('equal')"
   ]
  },
  {
   "cell_type": "code",
   "execution_count": 4,
   "id": "2f42bf1d-f017-4889-9507-8ac83a66860b",
   "metadata": {},
   "outputs": [
    {
     "name": "stdout",
     "output_type": "stream",
     "text": [
      "(4, 1000, 3)\n"
     ]
    }
   ],
   "source": [
    "## Tile vectors\n",
    "\n",
    "allvec = np.tile(vectors, (4, 1, 1))\n",
    "print(allvec.shape)"
   ]
  },
  {
   "cell_type": "code",
   "execution_count": 5,
   "id": "3dbe9ba6-e6da-4b00-ae19-75d0c115f62f",
   "metadata": {},
   "outputs": [
    {
     "name": "stdout",
     "output_type": "stream",
     "text": [
      "(4, 3, 3)\n"
     ]
    }
   ],
   "source": [
    "print(rotation_matrices.shape)"
   ]
  },
  {
   "cell_type": "code",
   "execution_count": 6,
   "id": "e05c40ea-57e2-45ed-8098-98fd638c413c",
   "metadata": {},
   "outputs": [],
   "source": [
    "# Perform the batch matrix-vector multiplication\n",
    "# Shape (N, M, 3) = (N, 1, 3, 3) @ (N, M, 3, 1)\n",
    "result = np.einsum('nij,nmj->nmi', rotation_matrices, allvec)"
   ]
  },
  {
   "cell_type": "code",
   "execution_count": 7,
   "id": "7608f3c8-0280-4dd2-a901-30d496ca8024",
   "metadata": {},
   "outputs": [
    {
     "data": {
      "text/plain": [
       "(4, 1000, 3)"
      ]
     },
     "execution_count": 7,
     "metadata": {},
     "output_type": "execute_result"
    }
   ],
   "source": [
    "result.shape"
   ]
  },
  {
   "cell_type": "code",
   "execution_count": 8,
   "id": "4719b6d8-a3ab-4f99-b5c4-830a655de880",
   "metadata": {},
   "outputs": [
    {
     "data": {
      "text/plain": [
       "<matplotlib.collections.PathCollection at 0x111a13320>"
      ]
     },
     "execution_count": 8,
     "metadata": {},
     "output_type": "execute_result"
    },
    {
     "data": {
      "image/png": "[encoded data removed]",
      "text/plain": [
       "<Figure size 640x480 with 1 Axes>"
      ]
     },
     "metadata": {},
     "output_type": "display_data"
    }
   ],
   "source": [
    "def cart_to_sph(xyz):\n",
    "    x, y, z = xyz\n",
    "\n",
    "    r = np.sqrt(x**2 + y**2 + z**2)\n",
    "    ra = np.rad2deg( np.arctan2(y, x) )\n",
    "    ra[ra < 0] = ra[ra < 0] + 360\n",
    "    dec = np.rad2deg( np.arcsin(z/r) )\n",
    "\n",
    "    return ra, dec\n",
    "\n",
    "ra, dec = cart_to_sph(result.reshape(-1, 3).T)\n",
    "import matplotlib.pyplot as plt\n",
    "plt.scatter(ra, dec)"
   ]
  },
  {
   "cell_type": "code",
   "execution_count": 9,
   "id": "5492fa46-c97e-470c-88ad-12df056e96cb",
   "metadata": {},
   "outputs": [],
   "source": [
    "import healpy as hp"
   ]
  },
  {
   "cell_type": "code",
   "execution_count": 13,
   "id": "6ab8aa9e-d850-428b-b698-a64d8fe6b9fb",
   "metadata": {},
   "outputs": [
    {
     "data": {
      "text/plain": [
       "196608"
      ]
     },
     "execution_count": 13,
     "metadata": {},
     "output_type": "execute_result"
    }
   ],
   "source": []
  },
  {
   "cell_type": "code",
   "execution_count": 30,
   "id": "5595e2e9-203d-4cd0-9d8f-b57c39bf5081",
   "metadata": {},
   "outputs": [
    {
     "data": {
      "text/plain": [
       "<matplotlib.collections.PathCollection at 0x14d3f0920>"
      ]
     },
     "execution_count": 30,
     "metadata": {},
     "output_type": "execute_result"
    },
    {
     "data": {
      "image/png": "[encoded data removed]",
      "text/plain": [
       "<Figure size 640x480 with 1 Axes>"
      ]
     },
     "metadata": {},
     "output_type": "display_data"
    }
   ],
   "source": [
    "nside = 128\n",
    "npix = hp.nside2npix(nside)\n",
    "x, y, z = hp.pix2vec(nside, np.arange(npix), nest=True)\n",
    "\n",
    "ra, dec = cart_to_sph((x, y, z))\n",
    "import matplotlib.pyplot as plt\n",
    "plt.scatter(ra, dec, s=0.01)"
   ]
  },
  {
   "cell_type": "code",
   "execution_count": 31,
   "id": "d217f89c-31e9-4cca-b029-dda7c8d46096",
   "metadata": {},
   "outputs": [
    {
     "data": {
      "text/plain": [
       "(array([ 0.01041667,  0.02083333,  0.02083333, ..., -0.02083333,\n",
       "        -0.02083333, -0.01041667]),\n",
       " 0.9986295347545738)"
      ]
     },
     "execution_count": 31,
     "metadata": {},
     "output_type": "execute_result"
    }
   ],
   "source": [
    "cos_alpha, np.cos(np.deg2rad(3))"
   ]
  },
  {
   "cell_type": "code",
   "execution_count": 36,
   "id": "7c66321b-7bd9-4de2-9397-f9d7a74ee470",
   "metadata": {},
   "outputs": [
    {
     "data": {
      "text/plain": [
       "<matplotlib.collections.PathCollection at 0x14d594920>"
      ]
     },
     "execution_count": 36,
     "metadata": {},
     "output_type": "execute_result"
    },
    {
     "data": {
      "image/png": "[encoded data removed]",
      "text/plain": [
       "<Figure size 640x480 with 1 Axes>"
      ]
     },
     "metadata": {},
     "output_type": "display_data"
    }
   ],
   "source": [
    "cos_alpha = z / np.sqrt(x*x + y*y + z*z)\n",
    "m = cos_alpha > np.cos(np.deg2rad(3))\n",
    "\n",
    "ra, dec = cart_to_sph((x[m], y[m], z[m]))\n",
    "import matplotlib.pyplot as plt\n",
    "plt.scatter(ra, dec)"
   ]
  },
  {
   "cell_type": "markdown",
   "id": "c1370f57-edaf-4080-a0f1-2893cd23190b",
   "metadata": {},
   "source": [
    "Plan:\n",
    "* Decompress all objects on a dense-ish grid (one obsv/hr?)\n",
    "* For each, compute radius (from center of night to most distant observation)\n",
    "* For each, compute earth distance and radius due to unknown observer\n",
    "* Sum the two radii\n",
    "* For each, grab the required number of points from the healpix grid that's within these radii\n",
    "* Merge the array\n",
    "* Rotate the points\n",
    "* Convert to healpix & bin"
   ]
  },
  {
   "cell_type": "code",
   "execution_count": 1,
   "id": "4013a669-3850-4bf5-ade6-dcb151c12238",
   "metadata": {},
   "outputs": [],
   "source": [
    "%load_ext autoreload"
   ]
  },
  {
   "cell_type": "code",
   "execution_count": 2,
   "id": "1bd4bf91-65ba-4f55-9c3f-3e0359082ae7",
   "metadata": {},
   "outputs": [],
   "source": [
    "%autoreload 2"
   ]
  },
  {
   "cell_type": "code",
   "execution_count": 6,
   "id": "df26bdcb-af79-4b94-a67f-51b433cd2605",
   "metadata": {},
   "outputs": [
    {
     "name": "stdout",
     "output_type": "stream",
     "text": [
      "(60367.0, 60397.0)\n"
     ]
    }
   ],
   "source": [
    "import pickle\n",
    "with open('comps.pkl', 'rb') as fp:\n",
    "    comps = pickle.load(fp)\n",
    "print(comps[0])"
   ]
  },
  {
   "cell_type": "code",
   "execution_count": 7,
   "id": "922cb89c-9f45-4106-a825-35e50551ba3e",
   "metadata": {},
   "outputs": [],
   "source": [
    "import os, ephgen\n",
    "from observatory import Observatories, mjd_tai_to_et\n",
    "obs_file_path = os.path.join(ephgen.basepath, ephgen.OBSERVATORY_CODES)\n",
    "observer = Observatories(obs_file_path).from_obscode(\"X05\")"
   ]
  },
  {
   "cell_type": "code",
   "execution_count": 8,
   "id": "67a7fe59-544d-4cd1-b883-2f5925e28472",
   "metadata": {},
   "outputs": [],
   "source": [
    "ephem, gm_sun, gm_total = ephgen.create_assist_ephemeris(ephgen.basepath)"
   ]
  },
  {
   "cell_type": "code",
   "execution_count": 4,
   "id": "5ff0a847-4a87-45d5-94cf-ba79dda33489",
   "metadata": {},
   "outputs": [],
   "source": [
    "import spiceypy as spice\n",
    "ephgen.build_meta_kernel_file()\n",
    "kfn = os.path.join(ephgen.basepath, ephgen.META_KERNEL)\n",
    "spice.furnsh(kfn)"
   ]
  },
  {
   "cell_type": "code",
   "execution_count": 9,
   "id": "3de62aaf-c123-473a-83ff-9bec5cf25057",
   "metadata": {},
   "outputs": [
    {
     "name": "stdout",
     "output_type": "stream",
     "text": [
      "(tmin, tmax)=(60367.0, 60397.0)\n",
      "(3, 10000, 24) (10000, 24) (10000, 24)\n"
     ]
    },
    {
     "data": {
      "image/png": "[encoded data removed]",
      "text/plain": [
       "<Figure size 640x480 with 1 Axes>"
      ]
     },
     "metadata": {},
     "output_type": "display_data"
    }
   ],
   "source": [
    "import numpy as np\n",
    "from ephgen import create_sim, cart_to_sph\n",
    "\n",
    "def get_obs(comps, times, observer, ephem, apply_ltcorr=True, lttol_msec=10, return_ephem=False, return_lt=False):\n",
    "    # Compute the ephemerides of objects given in <comps>, at <times>, as they're\n",
    "    # observed from the location of the <observer>.\n",
    "    #\n",
    "    # - comps: chebi+sv representation of the objects' trajectories\n",
    "    # - times: times at which ephemerides are requested (MJD, TDB)\n",
    "    # - observer: the Observer object\n",
    "    # - ephem: the Ephem object for computing from state vectors\n",
    "    #\n",
    "    # Returns:\n",
    "    # - (desig, xyz) or (desig, xyz, (ra, dec)\n",
    "    # - desig is a list of designations\n",
    "    # - xyz is the cartesian topocentric position, in AU. shape=(3, nobj, ntimes)\n",
    "    # - ra/dec are in degrees, shape=(nobj, ntimes)\n",
    "    #\n",
    "    from simulation_constants import SPEED_OF_LIGHT\n",
    "    assert not return_lt or apply_ltcorr, \"get_obs: to return lt, apply_ltcorr must be set to True\"\n",
    "\n",
    "    (tmin, tmax), p, desig = comps\n",
    "    times = np.atleast_1d(times)\n",
    "\n",
    "    nobj = len(desig)\n",
    "    ntimes = len(times)\n",
    "\n",
    "    # extract state vectors and prepare sims\n",
    "    svmask = p[0, 0, :] == np.inf\n",
    "    havesv = svmask.any()\n",
    "\n",
    "    if havesv:\n",
    "        xvview = p.reshape(-1, nobj)\n",
    "        xvall = xvview[1:8, svmask].T\n",
    "\n",
    "        mjd_ref = ephem.jd_ref - 2400000.5\n",
    "        sims = [ create_sim(ephem, xv) for xv in xvall ]\n",
    "        nsv = len(sims)\n",
    "\n",
    "    # compute observer barycentric position at requested times\n",
    "    oxyz = np.atleast_2d(observer.barycentric(times)).T\n",
    "\n",
    "    # initialize output array\n",
    "    xyz = np.zeros((3, nobj, ntimes))\n",
    "\n",
    "    # run until light-time difference is <lttol_msec msec\n",
    "    # prepare the light-time correction array.\n",
    "    lttol = lttol_msec / 1000. / 3600. / 24.\n",
    "    lt = np.zeros(nobj, dtype='f8')\n",
    "    d  = 0.\n",
    "\n",
    "    # iterate over all times\n",
    "    for ti, t in enumerate(times):\n",
    "        t = np.full_like(lt, t) # convert to ndarray\n",
    "        for _ in range(5):\n",
    "            # chebys were fitted from 0 to 1\n",
    "            f = (t - tmin - lt) / (tmax - tmin)\n",
    "            assert np.all((0 <= f) & (f <= 1)), f\"Time outside of interpolation range ({tmin=}, {tmax=}). {lt.max()=}, {np.max(d)=}.\"\n",
    "    \n",
    "            # compute the position at t_emit, for objects which have chebys\n",
    "            # the context-manager suppressess warnings for objects that have\n",
    "            # state vectors (and thus infs in some fields)\n",
    "            with np.errstate(invalid='ignore'):\n",
    "                xyz[:, :, ti] = np.polynomial.chebyshev.chebval(f, p, tensor=False)\n",
    "    \n",
    "            if havesv:\n",
    "                # fix up objects which have state vectors, if any\n",
    "                # we will propagate these using ASSIST.\n",
    "                xyz2 = np.empty((3, len(sims)))\n",
    "                t2 = t[svmask]\n",
    "                for i, (sim, ex) in enumerate(sims):\n",
    "                    ex.integrate_or_interpolate(t2[i] - mjd_ref)\n",
    "                    xyz2[:, i] = sim.particles[0].xyz\n",
    "                xyz[:, svmask, ti] = xyz2\n",
    "\n",
    "            # compute topocentric position\n",
    "            xyz[:, :, ti] -= oxyz[:, ti, np.newaxis]\n",
    "            if not apply_ltcorr:\n",
    "                # exit early if we don't need light correction\n",
    "                break\n",
    "\n",
    "            # compute distance, and the new estimate of\n",
    "            # light travel time\n",
    "            d = np.linalg.norm(xyz[:, :, ti], axis=0)\n",
    "            ltprev = lt\n",
    "            lt = d / SPEED_OF_LIGHT\n",
    "\n",
    "            # check if we're converging\n",
    "            dlt = np.abs(lt - ltprev)\n",
    "            #print(f\"{_} {(np.sort(dlt)*3600*24*1000)[::-1][:3]=}\")\n",
    "            if np.all(dlt < lttol):\n",
    "                break\n",
    "        else:\n",
    "            assert False, \"Runaway iteration in get_obs... something went wrong\"\n",
    "\n",
    "    ret = (desig, xyz)\n",
    "    if return_ephem: ret += (cart_to_sph(xyz),)\n",
    "    if return_lt:    ret += (lt,)\n",
    "    return ret\n",
    "\n",
    "import matplotlib.pyplot as plt\n",
    "tmin, tmax = comps[0]\n",
    "print(f\"{(tmin, tmax)=}\")\n",
    "t = np.linspace(tmin+1, tmin+2, 24)\n",
    "#t = np.linspace(tmin+1, tmax-1, 24)\n",
    "#t = 0.5*(tmin+tmax)\n",
    "\n",
    "desig, xyz, (ra, dec) = get_obs(comps, t, observer, ephem, return_ephem=True, apply_ltcorr=True)\n",
    "\n",
    "plt.scatter(ra, dec, s=0.2)\n",
    "print(f\"{xyz.shape} {ra.shape} {dec.shape}\")"
   ]
  },
  {
   "cell_type": "code",
   "execution_count": 10,
   "id": "ad070ab8-2dc8-4a86-b7f4-b34a602c0fbb",
   "metadata": {},
   "outputs": [
    {
     "name": "stdout",
     "output_type": "stream",
     "text": [
      "126 ms ± 22.7 ms per loop (mean ± std. dev. of 7 runs, 1 loop each)\n"
     ]
    }
   ],
   "source": [
    "%%timeit\n",
    "get_obs(comps, t, observer, ephem, return_ephem=False, apply_ltcorr=True, lttol_msec=10)"
   ]
  },
  {
   "cell_type": "code",
   "execution_count": 12,
   "id": "12e1272d-a294-445c-a292-04ce5540f01b",
   "metadata": {},
   "outputs": [
    {
     "data": {
      "text/plain": [
       "(array([0.09032338, 0.08300268, 0.07560512, 0.06813522, 0.06060227,\n",
       "        0.05301969, 0.04540396, 0.03777344, 0.03014697, 0.0225425 ,\n",
       "        0.01497572, 0.00745891, 0.        , 0.00739799, 0.01473718,\n",
       "        0.02202471, 0.02927216, 0.03649472, 0.04371003, 0.0509369 ,\n",
       "        0.05819389, 0.0654979 , 0.07286295, 0.0802991 ]),\n",
       " 2.276604320617458)"
      ]
     },
     "execution_count": 12,
     "metadata": {},
     "output_type": "execute_result"
    }
   ],
   "source": [
    "# Take the observation in the middle of the interval, and\n",
    "# compute the on-sky distance between it and all other observations.\n",
    "#\n",
    "# We'll take the largest of those and approximate the areas where\n",
    "# this object could've moved with a circle of that radius.\n",
    "\n",
    "d = np.linalg.norm(xyz[:, :, :], axis=0)\n",
    "a = xyz / d                   # unit vectors, (3, nobj, ntimes)\n",
    "b = a[:, :, a.shape[2] // 2]  # reference vector, (3, nobj)\n",
    "\n",
    "# This returns the dot product between each unit vector of\n",
    "# the object, and its reference vector\n",
    "result = np.einsum('ijk,ij->jk', a, b) # shape=(nobj, ntimes)\n",
    "\n",
    "# Example for one object, in degrees\n",
    "np.rad2deg(np.arccos(np.clip(result[1], -1, 1))), d[1, 0]"
   ]
  },
  {
   "cell_type": "code",
   "execution_count": 13,
   "id": "17753042-3631-4e68-9e4c-2bab521f5752",
   "metadata": {},
   "outputs": [
    {
     "data": {
      "text/plain": [
       "array([0.01955248, 0.09032338, 0.19005586, 0.1928702 , 0.17824275,\n",
       "       0.29378016, 0.04224212, 0.07628266, 0.07717201, 0.21846985])"
      ]
     },
     "execution_count": 13,
     "metadata": {},
     "output_type": "execute_result"
    }
   ],
   "source": [
    "# Let's take the maximum distance -- this will be the maximum motion\n",
    "# in the given night.\n",
    "rr = result.min(axis=1)\n",
    "motion_alpha = np.arccos(np.clip(rr, -1, 1)) ## shape=(nobj,)\n",
    "np.rad2deg(motion_alpha)[:10]"
   ]
  },
  {
   "cell_type": "code",
   "execution_count": 14,
   "id": "cd7c95f7-bed8-4b64-9c78-38a768bd19a5",
   "metadata": {},
   "outputs": [
    {
     "data": {
      "text/plain": [
       "array([0.00078746, 0.00107369, 0.0005827 , 0.00062003, 0.00060108,\n",
       "       0.0007812 , 0.00096658, 0.00102581, 0.00063861, 0.00073582])"
      ]
     },
     "execution_count": 14,
     "metadata": {},
     "output_type": "execute_result"
    }
   ],
   "source": [
    "# But there's also the uncertainty due to the (hitherto unknown)\n",
    "# location of the observer. We assume they'll be somewhere on\n",
    "# Earth, and thus the on-sky location of the asteroid can't vary\n",
    "# for more than the Earth radius relative to what it would be\n",
    "# if observed from the Geocenter.\n",
    "\n",
    "Re = 6_378 / 150_000_000 # Earth radius in AU (roughly)\n",
    "earth_alpha = Re / d.min(axis=1)\n",
    "np.rad2deg(earth_alpha)[:10]"
   ]
  },
  {
   "cell_type": "code",
   "execution_count": 15,
   "id": "bccd3a96-344b-4caa-85bd-5b2fc14dba25",
   "metadata": {},
   "outputs": [
    {
     "data": {
      "text/plain": [
       "array([0.02033994, 0.09139707, 0.19063855, 0.19349023, 0.17884383,\n",
       "       0.29456136, 0.0432087 , 0.07730847, 0.07781063, 0.21920566])"
      ]
     },
     "execution_count": 15,
     "metadata": {},
     "output_type": "execute_result"
    }
   ],
   "source": [
    "# The worst case scenario is to just add these two.\n",
    "\n",
    "alpha = earth_alpha + motion_alpha\n",
    "np.rad2deg(alpha)[:10]"
   ]
  },
  {
   "cell_type": "code",
   "execution_count": 16,
   "id": "5fdfebbc-8110-41d1-b8fa-a949385af1f7",
   "metadata": {},
   "outputs": [
    {
     "data": {
      "text/plain": [
       "array([0.83923148, 0.83633511, 0.75455493, 0.73447566, 0.72347464,\n",
       "       0.70100528, 0.68347853, 0.6470903 , 0.61494744, 0.60549882])"
      ]
     },
     "execution_count": 16,
     "metadata": {},
     "output_type": "execute_result"
    }
   ],
   "source": [
    "# let's see the ones with largest motions\n",
    "np.rad2deg(np.sort(alpha)[::-1][:10])"
   ]
  },
  {
   "cell_type": "code",
   "execution_count": 21,
   "id": "a7879c10-ac64-4a0b-8a6e-b1eb521f1f77",
   "metadata": {},
   "outputs": [
    {
     "name": "stdout",
     "output_type": "stream",
     "text": [
      "135 ms ± 9.77 ms per loop (mean ± std. dev. of 7 runs, 10 loops each)\n"
     ]
    }
   ],
   "source": [
    "%%timeit\n",
    "# Now we'll compute the healpix pixels where these objects could possibly\n",
    "# land.\n",
    "import healpy as hp\n",
    "nside=128\n",
    "\n",
    "# Each iteration of the comprehension computes the list of healpixes that may\n",
    "# contain this object. In that list, we store both the healpix ID (in the upper\n",
    "# 32 bits) and the object ID (in the lower 32 bits of each list item).\n",
    "# This list-of-lists gets concatenated into a ndarray, and then sorted. This is\n",
    "# effectivelly a sort on Healpix ID, since it's stored in the most significant\n",
    "# bits of each value -- but together with it, the object IDs are carried in the\n",
    "# least significant bits. This trick allows us to cheaply jointly sort the two.\n",
    "idx_and_pix = [ (hp.query_disc(nside, b1, a1, nest=True, inclusive=True) << 32) + i for i, (a1, b1) in enumerate(zip(alpha, b.T)) ]\n",
    "idx_and_pix = np.concatenate(idx_and_pix)\n",
    "idx_and_pix.sort()\n",
    "\n",
    "# Separate healpix and object IDs. The two arrays now carry tuples of\n",
    "# (healpix ID, object ID).\n",
    "ipix = idx_and_pix >> 32\n",
    "i = idx_and_pix & 0x0000_0000_FFFF_FFFF\n"
   ]
  },
  {
   "cell_type": "code",
   "execution_count": 22,
   "id": "a627399e-183d-41f2-b1ba-825bed33290c",
   "metadata": {},
   "outputs": [],
   "source": [
    "class JaggedArray:\n",
    "    def __init__(self, vals, offs):\n",
    "        self.vals = vals\n",
    "        self.offs = offs\n",
    "        self.n = len(self.offs) - 1\n",
    "\n",
    "    def __getitem__(self, i):\n",
    "        return self.vals[self.offs[i]:self.offs[i+1]]\n",
    "\n",
    "    def __repr__(self):\n",
    "        ret = dict()\n",
    "        for i in range(self.n):\n",
    "            if self.offs[i] < self.offs[i+1]:\n",
    "                ret[i] = self[i]\n",
    "        return repr(ret)\n",
    "    \n",
    "    def __len__(self):\n",
    "        return self.n\n",
    "\n",
    "    @staticmethod\n",
    "    def from_sorted_kv_arrays(k, v, n):\n",
    "        # input: ndarrays of keys (k) and values (v), of the same\n",
    "        # length, representing (k, v) tuples. Keys are allowed to repeat.\n",
    "        # The argument `n` is the maximum allowable value of k (note: it\n",
    "        # does not have to appear in k).\n",
    "        vals = v\n",
    "\n",
    "        uk, limits, counts = np.unique(k, return_index=True, return_counts=True)\n",
    "        offs = np.zeros(n+1, dtype=int)\n",
    "        offs[uk] = limits\n",
    "        offs[uk+1] = limits + counts\n",
    "        repeat_offsets(offs)\n",
    "\n",
    "        return JaggedArray(vals, offs)\n",
    "\n",
    "# FIXME: find a way to do this w/o numba\n",
    "from numba import njit\n",
    "@njit(cache=True)\n",
    "def repeat_offsets(offs):\n",
    "    prev = 0\n",
    "    for i, v in enumerate(offs):\n",
    "        if v == 0:\n",
    "            offs[i] = prev\n",
    "        else:\n",
    "            prev = offs[i]\n",
    "\n",
    "h2l = JaggedArray.from_sorted_kv_arrays(ipix, i, hp.nside2npix(nside))"
   ]
  },
  {
   "cell_type": "code",
   "execution_count": 23,
   "id": "3467c5d9-0ab0-4f0a-8699-347564407013",
   "metadata": {},
   "outputs": [
    {
     "name": "stdout",
     "output_type": "stream",
     "text": [
      "1.24 ms ± 22.8 µs per loop (mean ± std. dev. of 7 runs, 1,000 loops each)\n"
     ]
    }
   ],
   "source": [
    "%%timeit\n",
    "# We next store them into a jagged array, allowing fast and memory-efficient \n",
    "# dict-like search for objects in a healpix pixel\n",
    "h2l = JaggedArray.from_sorted_kv_arrays(ipix, i, hp.nside2npix(nside))"
   ]
  },
  {
   "cell_type": "code",
   "execution_count": 24,
   "id": "63fe07dc-a6c9-43b9-b1ae-1122b7dec1dd",
   "metadata": {},
   "outputs": [
    {
     "name": "stdout",
     "output_type": "stream",
     "text": [
      "All OK!\n"
     ]
    }
   ],
   "source": [
    "## Validate this works correctly\n",
    "\n",
    "idx_and_pix = [ (hp.query_disc(nside, b1, a1, nest=True, inclusive=True) << 32) + i for i, (a1, b1) in enumerate(zip(alpha, b.T)) ]\n",
    "idx_and_pix = np.concatenate(idx_and_pix)\n",
    "idx_and_pix.sort()\n",
    "\n",
    "ipix = idx_and_pix >> 32\n",
    "i = idx_and_pix & 0x0000_0000_FFFF_FFFF\n",
    "\n",
    "from collections import defaultdict\n",
    "vv = defaultdict(list)\n",
    "for ipix1, i1 in zip(ipix, i):\n",
    "    vv[ipix1].append(i1)\n",
    "\n",
    "for k in range(len(h2l)):\n",
    "    vvx = np.array(vv[k], dtype=int)\n",
    "    assert len(h2l[k]) == len(vvx), (k, h2l[k], vvx)\n",
    "    assert set(h2l[k]) == set(vvx), (k, h2l[k], vvx)\n",
    "print(\"All OK!\")"
   ]
  },
  {
   "cell_type": "code",
   "execution_count": null,
   "id": "a2a9b334-ca70-42e0-9ff5-392fefb88347",
   "metadata": {},
   "outputs": [],
   "source": []
  }
 ],
 "metadata": {
  "kernelspec": {
   "display_name": "Python 3 (ipykernel)",
   "language": "python",
   "name": "python3"
  },
  "language_info": {
   "codemirror_mode": {
    "name": "ipython",
    "version": 3
   },
   "file_extension": ".py",
   "mimetype": "text/x-python",
   "name": "python",
   "nbconvert_exporter": "python",
   "pygments_lexer": "ipython3",
   "version": "3.11.5"
  }
 },
 "nbformat": 4,
 "nbformat_minor": 5
}
